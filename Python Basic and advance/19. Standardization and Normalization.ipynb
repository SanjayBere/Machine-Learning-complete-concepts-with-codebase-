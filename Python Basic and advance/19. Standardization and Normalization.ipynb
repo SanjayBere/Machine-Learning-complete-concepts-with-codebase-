{
 "cells": [
  {
   "cell_type": "markdown",
   "metadata": {},
   "source": [
    "# Standardization \n",
    "- in this technique we are simply <b>converting any distribution data to \"standard normal distribution\" where mean = 0 and std.dev =1 </b>"
   ]
  },
  {
   "cell_type": "code",
   "execution_count": 4,
   "metadata": {},
   "outputs": [
    {
     "data": {
      "text/html": [
       "<div>\n",
       "<style scoped>\n",
       "    .dataframe tbody tr th:only-of-type {\n",
       "        vertical-align: middle;\n",
       "    }\n",
       "\n",
       "    .dataframe tbody tr th {\n",
       "        vertical-align: top;\n",
       "    }\n",
       "\n",
       "    .dataframe thead th {\n",
       "        text-align: right;\n",
       "    }\n",
       "</style>\n",
       "<table border=\"1\" class=\"dataframe\">\n",
       "  <thead>\n",
       "    <tr style=\"text-align: right;\">\n",
       "      <th></th>\n",
       "      <th>0</th>\n",
       "      <th>1</th>\n",
       "      <th>2</th>\n",
       "      <th>3</th>\n",
       "      <th>4</th>\n",
       "      <th>5</th>\n",
       "      <th>6</th>\n",
       "      <th>7</th>\n",
       "      <th>8</th>\n",
       "      <th>9</th>\n",
       "      <th>...</th>\n",
       "      <th>2482</th>\n",
       "      <th>2483</th>\n",
       "      <th>2484</th>\n",
       "      <th>2485</th>\n",
       "      <th>2486</th>\n",
       "      <th>2487</th>\n",
       "      <th>2488</th>\n",
       "      <th>2489</th>\n",
       "      <th>2490</th>\n",
       "      <th>2491</th>\n",
       "    </tr>\n",
       "  </thead>\n",
       "  <tbody>\n",
       "    <tr>\n",
       "      <th>0</th>\n",
       "      <td>{\"0\":{\"0\":1</td>\n",
       "      <td>1:1</td>\n",
       "      <td>2:1</td>\n",
       "      <td>3:1</td>\n",
       "      <td>4:1</td>\n",
       "      <td>5:1</td>\n",
       "      <td>6:1</td>\n",
       "      <td>7:1</td>\n",
       "      <td>8:1</td>\n",
       "      <td>9:1</td>\n",
       "      <td>...</td>\n",
       "      <td>168:750</td>\n",
       "      <td>169:630</td>\n",
       "      <td>170:510</td>\n",
       "      <td>171:470</td>\n",
       "      <td>172:660</td>\n",
       "      <td>173:740</td>\n",
       "      <td>174:750</td>\n",
       "      <td>175:835</td>\n",
       "      <td>176:840</td>\n",
       "      <td>177:560}}</td>\n",
       "    </tr>\n",
       "  </tbody>\n",
       "</table>\n",
       "<p>1 rows × 2492 columns</p>\n",
       "</div>"
      ],
      "text/plain": [
       "          0    1    2    3    4    5    6    7    8    9     ...     2482  \\\n",
       "0  {\"0\":{\"0\":1  1:1  2:1  3:1  4:1  5:1  6:1  7:1  8:1  9:1  ...  168:750   \n",
       "\n",
       "      2483     2484     2485     2486     2487     2488     2489     2490  \\\n",
       "0  169:630  170:510  171:470  172:660  173:740  174:750  175:835  176:840   \n",
       "\n",
       "        2491  \n",
       "0  177:560}}  \n",
       "\n",
       "[1 rows x 2492 columns]"
      ]
     },
     "execution_count": 4,
     "metadata": {},
     "output_type": "execute_result"
    }
   ],
   "source": [
    "import pandas as pd\n",
    "\n",
    "data =  pd.read_csv(\"wine.csv\",header=None)\n",
    "data.head()"
   ]
  },
  {
   "cell_type": "code",
   "execution_count": null,
   "metadata": {},
   "outputs": [],
   "source": []
  }
 ],
 "metadata": {
  "kernelspec": {
   "display_name": "Python 3",
   "language": "python",
   "name": "python3"
  },
  "language_info": {
   "codemirror_mode": {
    "name": "ipython",
    "version": 3
   },
   "file_extension": ".py",
   "mimetype": "text/x-python",
   "name": "python",
   "nbconvert_exporter": "python",
   "pygments_lexer": "ipython3",
   "version": "3.8.5"
  }
 },
 "nbformat": 4,
 "nbformat_minor": 4
}
