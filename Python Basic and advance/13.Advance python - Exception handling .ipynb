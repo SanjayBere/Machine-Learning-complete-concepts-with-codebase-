{
 "cells": [
  {
   "cell_type": "code",
   "execution_count": 2,
   "metadata": {},
   "outputs": [
    {
     "name": "stdout",
     "output_type": "stream",
     "text": [
      "enter the 1st number : 12\n",
      "enter the 2nd number : 0\n",
      "division by zero\n"
     ]
    }
   ],
   "source": [
    "try:\n",
    "    a = int(input(\"enter the 1st number : \"))\n",
    "    b = int(input(\"enter the 2nd number : \"))\n",
    "    c = a+b\n",
    "    d = a*b\n",
    "    e = a/b\n",
    "except Exception as ex:\n",
    "    print(ex)\n",
    "else :\n",
    "    print(c)\n",
    "    print(d)\n",
    "    print(e)\n",
    "    \n",
    "    "
   ]
  },
  {
   "cell_type": "code",
   "execution_count": 4,
   "metadata": {},
   "outputs": [
    {
     "name": "stdout",
     "output_type": "stream",
     "text": [
      "enter the 1st number : 12\n",
      "enter the 2nd number : 0\n",
      "division by zero\n",
      "program executed successfully\n"
     ]
    }
   ],
   "source": [
    "try:\n",
    "    a = int(input(\"enter the 1st number : \"))\n",
    "    b = int(input(\"enter the 2nd number : \"))\n",
    "    c = a+b\n",
    "    d = a*b\n",
    "    e = a/b\n",
    "except Exception as ex:\n",
    "    print(ex)\n",
    "else :\n",
    "    print(c)\n",
    "    print(d)\n",
    "    print(e)\n",
    "finally:\n",
    "    print(\"program executed successfully\")"
   ]
  },
  {
   "cell_type": "code",
   "execution_count": null,
   "metadata": {},
   "outputs": [],
   "source": []
  }
 ],
 "metadata": {
  "kernelspec": {
   "display_name": "Python 3",
   "language": "python",
   "name": "python3"
  },
  "language_info": {
   "codemirror_mode": {
    "name": "ipython",
    "version": 3
   },
   "file_extension": ".py",
   "mimetype": "text/x-python",
   "name": "python",
   "nbconvert_exporter": "python",
   "pygments_lexer": "ipython3",
   "version": "3.8.5"
  }
 },
 "nbformat": 4,
 "nbformat_minor": 4
}
