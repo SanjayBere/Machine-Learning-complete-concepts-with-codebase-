{
 "cells": [
  {
   "cell_type": "markdown",
   "metadata": {},
   "source": [
    "### Below is the class defination"
   ]
  },
  {
   "cell_type": "code",
   "execution_count": 1,
   "metadata": {},
   "outputs": [],
   "source": [
    "class temp:\n",
    "    pass"
   ]
  },
  {
   "cell_type": "markdown",
   "metadata": {},
   "source": [
    "###  Below is employee class and its attributes"
   ]
  },
  {
   "cell_type": "code",
   "execution_count": 3,
   "metadata": {},
   "outputs": [
    {
     "name": "stdout",
     "output_type": "stream",
     "text": [
      "500000\n",
      "ML engineer\n"
     ]
    }
   ],
   "source": [
    "class employee:\n",
    "    salary = 500000\n",
    "    job_title = \"ML engineer\"\n",
    "    \n",
    "emp1 = employee() # class instantiating i.e  object creation\n",
    "print(emp1.salary)\n",
    "print(emp1.job_title)"
   ]
  },
  {
   "cell_type": "markdown",
   "metadata": {},
   "source": [
    "### create class using type keyword"
   ]
  },
  {
   "cell_type": "code",
   "execution_count": 4,
   "metadata": {},
   "outputs": [
    {
     "name": "stdout",
     "output_type": "stream",
     "text": [
      "john\n"
     ]
    }
   ],
   "source": [
    "e1 = type(\"sample\" ,(),{})()\n",
    "e1.name = \"john\"\n",
    "print(e1.name)"
   ]
  },
  {
   "cell_type": "markdown",
   "metadata": {},
   "source": [
    "1. Generally speaking, this means, that we can define a class sample with\n",
    "\n",
    "type(classname, superclasses, attributedict)\n",
    "\n",
    " When we call \"type\", the call method of type is called. The call method runs two other methods: new and init:\n",
    "- type.__new__(typeclass, classname, superclasses, attributedict)\n",
    "- type.__init__(cls, classname, superclasses, attributedict)\n",
    "\n",
    "3. The new method creates and returns the new class object, and after this, the init method initializes the newly created object."
   ]
  },
  {
   "cell_type": "code",
   "execution_count": 10,
   "metadata": {},
   "outputs": [
    {
     "name": "stdout",
     "output_type": "stream",
     "text": [
      "mike\n"
     ]
    }
   ],
   "source": [
    "class robot:\n",
    "    pass\n",
    "\n",
    "if __name__==\"__main__\":\n",
    "        x = robot()\n",
    "        y = robot()\n",
    "        x.name = \"mike\"\n",
    "        x.build_year = 1990\n",
    "        y.name = \"tom\"\n",
    "        y.build_year = 1995\n",
    "        print(x.name)\n",
    "        "
   ]
  },
  {
   "cell_type": "code",
   "execution_count": 11,
   "metadata": {},
   "outputs": [
    {
     "data": {
      "text/plain": [
       "['__class__',\n",
       " '__delattr__',\n",
       " '__dict__',\n",
       " '__dir__',\n",
       " '__doc__',\n",
       " '__eq__',\n",
       " '__format__',\n",
       " '__ge__',\n",
       " '__getattribute__',\n",
       " '__gt__',\n",
       " '__hash__',\n",
       " '__init__',\n",
       " '__init_subclass__',\n",
       " '__le__',\n",
       " '__lt__',\n",
       " '__module__',\n",
       " '__ne__',\n",
       " '__new__',\n",
       " '__reduce__',\n",
       " '__reduce_ex__',\n",
       " '__repr__',\n",
       " '__setattr__',\n",
       " '__sizeof__',\n",
       " '__str__',\n",
       " '__subclasshook__',\n",
       " '__weakref__',\n",
       " 'build_year',\n",
       " 'name']"
      ]
     },
     "execution_count": 11,
     "metadata": {},
     "output_type": "execute_result"
    }
   ],
   "source": [
    "dir(x)"
   ]
  },
  {
   "cell_type": "code",
   "execution_count": 12,
   "metadata": {},
   "outputs": [
    {
     "data": {
      "text/plain": [
       "{'name': 'mike', 'build_year': 1990}"
      ]
     },
     "execution_count": 12,
     "metadata": {},
     "output_type": "execute_result"
    }
   ],
   "source": [
    "x.__dict__"
   ]
  },
  {
   "cell_type": "code",
   "execution_count": 18,
   "metadata": {},
   "outputs": [
    {
     "name": "stdout",
     "output_type": "stream",
     "text": [
      "my name is joe\n"
     ]
    }
   ],
   "source": [
    "def r_name(obj):\n",
    "    print(\"my name is \"+obj)\n",
    "    \n",
    "class Robot:\n",
    "    pass\n",
    "\n",
    "x = Robot()\n",
    "x.name = \"joe\"\n",
    "r_name(x.name)"
   ]
  },
  {
   "cell_type": "code",
   "execution_count": null,
   "metadata": {},
   "outputs": [],
   "source": []
  }
 ],
 "metadata": {
  "kernelspec": {
   "display_name": "Python 3",
   "language": "python",
   "name": "python3"
  },
  "language_info": {
   "codemirror_mode": {
    "name": "ipython",
    "version": 3
   },
   "file_extension": ".py",
   "mimetype": "text/x-python",
   "name": "python",
   "nbconvert_exporter": "python",
   "pygments_lexer": "ipython3",
   "version": "3.8.5"
  }
 },
 "nbformat": 4,
 "nbformat_minor": 4
}
