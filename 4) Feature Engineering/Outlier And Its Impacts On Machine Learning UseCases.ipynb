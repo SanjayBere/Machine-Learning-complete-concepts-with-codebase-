{
 "cells": [
  {
   "cell_type": "markdown",
   "metadata": {},
   "source": [
    "- TO detect outliers \n",
    "   1) Box plot \n",
    "   2) scatter plot\n",
    "   3) z-score\n",
    "   4) IQR\n",
    "\n",
    "- To delete or filter the outliers:\n",
    " 1) z-score\n",
    " 2) IQR"
   ]
  },
  {
   "cell_type": "markdown",
   "metadata": {},
   "source": [
    "### Which machine learning algorithm is  impacted by outliers\n",
    "1. Naive Bayes algorithm ------- Not Sensitive\n",
    "2. SVM ------------------------- Not Sensitive\n",
    "3. Linear regression ----------- Sensitive\n",
    "4. Logistic regression --------- Sensitive \n",
    "5. Decison tree regreessor OR classifier ------ Not Sensitive \n",
    "6. Ensemble techniques (RF , Boosting techniques) --------- Not sensitive \n",
    "7. KNN --------------------- if k value is high , this model is robust to outlier\n",
    "8. KMeans ------------------- Sensitive\n",
    "9. Hierarchical ------------- Sensitive \n",
    "10. PCA --------------------- Sensitive \n",
    "11. Neural Network ---------- Sensitive "
   ]
  },
  {
   "cell_type": "code",
   "execution_count": 2,
   "metadata": {},
   "outputs": [
    {
     "data": {
      "text/html": [
       "<div>\n",
       "<style scoped>\n",
       "    .dataframe tbody tr th:only-of-type {\n",
       "        vertical-align: middle;\n",
       "    }\n",
       "\n",
       "    .dataframe tbody tr th {\n",
       "        vertical-align: top;\n",
       "    }\n",
       "\n",
       "    .dataframe thead th {\n",
       "        text-align: right;\n",
       "    }\n",
       "</style>\n",
       "<table border=\"1\" class=\"dataframe\">\n",
       "  <thead>\n",
       "    <tr style=\"text-align: right;\">\n",
       "      <th></th>\n",
       "      <th>PassengerId</th>\n",
       "      <th>Survived</th>\n",
       "      <th>Pclass</th>\n",
       "      <th>Name</th>\n",
       "      <th>Sex</th>\n",
       "      <th>Age</th>\n",
       "      <th>SibSp</th>\n",
       "      <th>Parch</th>\n",
       "      <th>Ticket</th>\n",
       "      <th>Fare</th>\n",
       "      <th>Cabin</th>\n",
       "      <th>Embarked</th>\n",
       "    </tr>\n",
       "  </thead>\n",
       "  <tbody>\n",
       "    <tr>\n",
       "      <th>0</th>\n",
       "      <td>1</td>\n",
       "      <td>0</td>\n",
       "      <td>3</td>\n",
       "      <td>Braund, Mr. Owen Harris</td>\n",
       "      <td>male</td>\n",
       "      <td>22.0</td>\n",
       "      <td>1</td>\n",
       "      <td>0</td>\n",
       "      <td>A/5 21171</td>\n",
       "      <td>7.2500</td>\n",
       "      <td>NaN</td>\n",
       "      <td>S</td>\n",
       "    </tr>\n",
       "    <tr>\n",
       "      <th>1</th>\n",
       "      <td>2</td>\n",
       "      <td>1</td>\n",
       "      <td>1</td>\n",
       "      <td>Cumings, Mrs. John Bradley (Florence Briggs Th...</td>\n",
       "      <td>female</td>\n",
       "      <td>38.0</td>\n",
       "      <td>1</td>\n",
       "      <td>0</td>\n",
       "      <td>PC 17599</td>\n",
       "      <td>71.2833</td>\n",
       "      <td>C85</td>\n",
       "      <td>C</td>\n",
       "    </tr>\n",
       "    <tr>\n",
       "      <th>2</th>\n",
       "      <td>3</td>\n",
       "      <td>1</td>\n",
       "      <td>3</td>\n",
       "      <td>Heikkinen, Miss. Laina</td>\n",
       "      <td>female</td>\n",
       "      <td>26.0</td>\n",
       "      <td>0</td>\n",
       "      <td>0</td>\n",
       "      <td>STON/O2. 3101282</td>\n",
       "      <td>7.9250</td>\n",
       "      <td>NaN</td>\n",
       "      <td>S</td>\n",
       "    </tr>\n",
       "    <tr>\n",
       "      <th>3</th>\n",
       "      <td>4</td>\n",
       "      <td>1</td>\n",
       "      <td>1</td>\n",
       "      <td>Futrelle, Mrs. Jacques Heath (Lily May Peel)</td>\n",
       "      <td>female</td>\n",
       "      <td>35.0</td>\n",
       "      <td>1</td>\n",
       "      <td>0</td>\n",
       "      <td>113803</td>\n",
       "      <td>53.1000</td>\n",
       "      <td>C123</td>\n",
       "      <td>S</td>\n",
       "    </tr>\n",
       "    <tr>\n",
       "      <th>4</th>\n",
       "      <td>5</td>\n",
       "      <td>0</td>\n",
       "      <td>3</td>\n",
       "      <td>Allen, Mr. William Henry</td>\n",
       "      <td>male</td>\n",
       "      <td>35.0</td>\n",
       "      <td>0</td>\n",
       "      <td>0</td>\n",
       "      <td>373450</td>\n",
       "      <td>8.0500</td>\n",
       "      <td>NaN</td>\n",
       "      <td>S</td>\n",
       "    </tr>\n",
       "  </tbody>\n",
       "</table>\n",
       "</div>"
      ],
      "text/plain": [
       "   PassengerId  Survived  Pclass  \\\n",
       "0            1         0       3   \n",
       "1            2         1       1   \n",
       "2            3         1       3   \n",
       "3            4         1       1   \n",
       "4            5         0       3   \n",
       "\n",
       "                                                Name     Sex   Age  SibSp  \\\n",
       "0                            Braund, Mr. Owen Harris    male  22.0      1   \n",
       "1  Cumings, Mrs. John Bradley (Florence Briggs Th...  female  38.0      1   \n",
       "2                             Heikkinen, Miss. Laina  female  26.0      0   \n",
       "3       Futrelle, Mrs. Jacques Heath (Lily May Peel)  female  35.0      1   \n",
       "4                           Allen, Mr. William Henry    male  35.0      0   \n",
       "\n",
       "   Parch            Ticket     Fare Cabin Embarked  \n",
       "0      0         A/5 21171   7.2500   NaN        S  \n",
       "1      0          PC 17599  71.2833   C85        C  \n",
       "2      0  STON/O2. 3101282   7.9250   NaN        S  \n",
       "3      0            113803  53.1000  C123        S  \n",
       "4      0            373450   8.0500   NaN        S  "
      ]
     },
     "execution_count": 2,
     "metadata": {},
     "output_type": "execute_result"
    }
   ],
   "source": [
    "import pandas as pd\n",
    "df = pd.read_csv('titanic-train.csv')\n",
    "df.head()"
   ]
  },
  {
   "cell_type": "code",
   "execution_count": 3,
   "metadata": {},
   "outputs": [
    {
     "data": {
      "text/plain": [
       "PassengerId      0\n",
       "Survived         0\n",
       "Pclass           0\n",
       "Name             0\n",
       "Sex              0\n",
       "Age            177\n",
       "SibSp            0\n",
       "Parch            0\n",
       "Ticket           0\n",
       "Fare             0\n",
       "Cabin          687\n",
       "Embarked         2\n",
       "dtype: int64"
      ]
     },
     "execution_count": 3,
     "metadata": {},
     "output_type": "execute_result"
    }
   ],
   "source": [
    "df.isnull().sum()"
   ]
  },
  {
   "cell_type": "code",
   "execution_count": 12,
   "metadata": {},
   "outputs": [
    {
     "name": "stderr",
     "output_type": "stream",
     "text": [
      "C:\\Users\\HP\\anaconda3\\lib\\site-packages\\seaborn\\distributions.py:2551: FutureWarning: `distplot` is a deprecated function and will be removed in a future version. Please adapt your code to use either `displot` (a figure-level function with similar flexibility) or `histplot` (an axes-level function for histograms).\n",
      "  warnings.warn(msg, FutureWarning)\n"
     ]
    },
    {
     "data": {
      "text/plain": [
       "<AxesSubplot:xlabel='Age', ylabel='Density'>"
      ]
     },
     "execution_count": 12,
     "metadata": {},
     "output_type": "execute_result"
    },
    {
     "data": {
      "image/png": "[encoded data removed]",
      "text/plain": [
       "<Figure size 432x288 with 1 Axes>"
      ]
     },
     "metadata": {
      "needs_background": "light"
     },
     "output_type": "display_data"
    }
   ],
   "source": [
    "import seaborn as sns\n",
    "sns.distplot(df['Age'].dropna())"
   ]
  },
  {
   "cell_type": "markdown",
   "metadata": {},
   "source": [
    "### we are simply adding outliers to Age column"
   ]
  },
  {
   "cell_type": "code",
   "execution_count": 13,
   "metadata": {},
   "outputs": [
    {
     "name": "stderr",
     "output_type": "stream",
     "text": [
      "C:\\Users\\HP\\anaconda3\\lib\\site-packages\\seaborn\\distributions.py:2551: FutureWarning: `distplot` is a deprecated function and will be removed in a future version. Please adapt your code to use either `displot` (a figure-level function with similar flexibility) or `histplot` (an axes-level function for histograms).\n",
      "  warnings.warn(msg, FutureWarning)\n"
     ]
    },
    {
     "data": {
      "text/plain": [
       "<AxesSubplot:xlabel='Age', ylabel='Density'>"
      ]
     },
     "execution_count": 13,
     "metadata": {},
     "output_type": "execute_result"
    },
    {
     "data": {
      "image/png": "[encoded data removed]",
      "text/plain": [
       "<Figure size 432x288 with 1 Axes>"
      ]
     },
     "metadata": {
      "needs_background": "light"
     },
     "output_type": "display_data"
    }
   ],
   "source": [
    "sns.distplot(df['Age'].fillna(100))"
   ]
  },
  {
   "cell_type": "code",
   "execution_count": 14,
   "metadata": {},
   "outputs": [
    {
     "data": {
      "text/plain": [
       "Text(0, 0.5, 'number of passengers')"
      ]
     },
     "execution_count": 14,
     "metadata": {},
     "output_type": "execute_result"
    },
    {
     "data": {
      "image/png": "[encoded data removed]",
      "text/plain": [
       "<Figure size 432x288 with 1 Axes>"
      ]
     },
     "metadata": {
      "needs_background": "light"
     },
     "output_type": "display_data"
    }
   ],
   "source": [
    "plot = df.Age.hist(bins = 30)\n",
    "plot.set_title(\"Age\")\n",
    "plot.set_xlabel(\"Age\")\n",
    "plot.set_ylabel(\"number of passengers\")"
   ]
  },
  {
   "cell_type": "markdown",
   "metadata": {},
   "source": [
    "###  The above data follows nearly the gaussian distribution"
   ]
  },
  {
   "cell_type": "code",
   "execution_count": 19,
   "metadata": {},
   "outputs": [
    {
     "data": {
      "image/png": "[encoded data removed]",
      "text/plain": [
       "<Figure size 432x288 with 1 Axes>"
      ]
     },
     "metadata": {
      "needs_background": "light"
     },
     "output_type": "display_data"
    }
   ],
   "source": [
    "fig = sns.boxplot(x = df['Age'] , orient=\"H\")"
   ]
  },
  {
   "cell_type": "code",
   "execution_count": 21,
   "metadata": {},
   "outputs": [
    {
     "data": {
      "text/plain": [
       "count    714.000000\n",
       "mean      29.699118\n",
       "std       14.526497\n",
       "min        0.420000\n",
       "25%       20.125000\n",
       "50%       28.000000\n",
       "75%       38.000000\n",
       "max       80.000000\n",
       "Name: Age, dtype: float64"
      ]
     },
     "execution_count": 21,
     "metadata": {},
     "output_type": "execute_result"
    }
   ],
   "source": [
    "df['Age'].describe()"
   ]
  },
  {
   "cell_type": "code",
   "execution_count": 31,
   "metadata": {},
   "outputs": [
    {
     "name": "stdout",
     "output_type": "stream",
     "text": [
      "upper_bound : 73.27860964406095 , lower_bound : -13.88037434994331  , mean : 29.69911764705882 \n"
     ]
    }
   ],
   "source": [
    "# Assuming the data follows the gaussian distribution , we are calculating the boundaries which will differentiate the outliers\n",
    "upper_boundary = df['Age'].mean() + 3*df[\"Age\"].std()\n",
    "lower_boundary = df['Age'].mean() - 3*df[\"Age\"].std()\n",
    "mean = df['Age'].mean()\n",
    "print(\"upper_bound : {} , lower_bound : {}  , mean : {} \".format(upper_boundary , lower_boundary , mean))"
   ]
  },
  {
   "cell_type": "code",
   "execution_count": 34,
   "metadata": {},
   "outputs": [
    {
     "data": {
      "text/plain": [
       "17.875"
      ]
     },
     "execution_count": 34,
     "metadata": {},
     "output_type": "execute_result"
    }
   ],
   "source": [
    "# lets computer the IQR \n",
    "IQR = df['Age'].quantile(0.75) - df['Age'].quantile(0.25)\n",
    "IQR"
   ]
  },
  {
   "cell_type": "code",
   "execution_count": 39,
   "metadata": {},
   "outputs": [
    {
     "name": "stdout",
     "output_type": "stream",
     "text": [
      "-6.6875\n",
      "64.8125\n"
     ]
    }
   ],
   "source": [
    "# now we have to calculate the upper edge and lower edge \n",
    "lower_edge = df['Age'].quantile(0.25) - (IQR*1.5)\n",
    "upper_edge = df['Age'].quantile(0.75) + (IQR*1.5)\n",
    "print(lower_edge)  \n",
    "\n",
    "print(upper_edge)"
   ]
  },
  {
   "cell_type": "code",
   "execution_count": 41,
   "metadata": {},
   "outputs": [
    {
     "name": "stdout",
     "output_type": "stream",
     "text": [
      "-33.5\n",
      "91.625\n"
     ]
    }
   ],
   "source": [
    "# Exterme outliers \n",
    "lower_edge = df['Age'].quantile(0.25) - (IQR*3)\n",
    "upper_edge = df['Age'].quantile(0.75) + (IQR*3)\n",
    "print(lower_edge)  \n",
    "\n",
    "print(upper_edge)"
   ]
  },
  {
   "cell_type": "markdown",
   "metadata": {},
   "source": [
    "####  Fare"
   ]
  },
  {
   "cell_type": "code",
   "execution_count": 42,
   "metadata": {},
   "outputs": [
    {
     "data": {
      "text/plain": [
       "Text(0, 0.5, 'number of passengers')"
      ]
     },
     "execution_count": 42,
     "metadata": {},
     "output_type": "execute_result"
    },
    {
     "data": {
      "image/png": "[encoded data removed]",
      "text/plain": [
       "<Figure size 432x288 with 1 Axes>"
      ]
     },
     "metadata": {
      "needs_background": "light"
     },
     "output_type": "display_data"
    }
   ],
   "source": [
    "plot = df.Fare.hist(bins = 30)\n",
    "plot.set_title(\"Fare\")\n",
    "plot.set_xlabel(\"Fare\")\n",
    "plot.set_ylabel(\"number of passengers\")"
   ]
  },
  {
   "cell_type": "markdown",
   "metadata": {},
   "source": [
    "###  So now here the data is right skewed "
   ]
  },
  {
   "cell_type": "code",
   "execution_count": 44,
   "metadata": {},
   "outputs": [
    {
     "data": {
      "text/plain": [
       "<AxesSubplot:xlabel='Fare'>"
      ]
     },
     "execution_count": 44,
     "metadata": {},
     "output_type": "execute_result"
    },
    {
     "data": {
      "image/png": "[encoded data removed]",
      "text/plain": [
       "<Figure size 432x288 with 1 Axes>"
      ]
     },
     "metadata": {
      "needs_background": "light"
     },
     "output_type": "display_data"
    }
   ],
   "source": [
    "sns.boxplot(x = df[\"Fare\"])"
   ]
  },
  {
   "cell_type": "code",
   "execution_count": 45,
   "metadata": {},
   "outputs": [
    {
     "data": {
      "text/plain": [
       "count    891.000000\n",
       "mean      32.204208\n",
       "std       49.693429\n",
       "min        0.000000\n",
       "25%        7.910400\n",
       "50%       14.454200\n",
       "75%       31.000000\n",
       "max      512.329200\n",
       "Name: Fare, dtype: float64"
      ]
     },
     "execution_count": 45,
     "metadata": {},
     "output_type": "execute_result"
    }
   ],
   "source": [
    "df[\"Fare\"].describe()"
   ]
  },
  {
   "cell_type": "code",
   "execution_count": 46,
   "metadata": {},
   "outputs": [
    {
     "data": {
      "text/plain": [
       "23.0896"
      ]
     },
     "execution_count": 46,
     "metadata": {},
     "output_type": "execute_result"
    }
   ],
   "source": [
    "# Lets computes the IQR\n",
    "IQR_fare = df.Fare.quantile(0.75) - df.Fare.quantile(0.25)\n",
    "IQR_fare"
   ]
  },
  {
   "cell_type": "code",
   "execution_count": 47,
   "metadata": {},
   "outputs": [
    {
     "name": "stdout",
     "output_type": "stream",
     "text": [
      "-61.358399999999996\n",
      "100.2688\n"
     ]
    }
   ],
   "source": [
    "# Exterme outliers \n",
    "lower_edge = df['Fare'].quantile(0.25) - (IQR_fare*3)\n",
    "upper_edge = df['Fare'].quantile(0.75) + (IQR_fare*3)\n",
    "print(lower_edge)  \n",
    "\n",
    "print(upper_edge)"
   ]
  },
  {
   "cell_type": "code",
   "execution_count": 49,
   "metadata": {},
   "outputs": [],
   "source": [
    "data = df.copy()\n",
    "data.loc[data['Age'] > 73 , 'Age'] = 73\n",
    "data.loc[data['Fare'] > 100 , 'Fare'] = 100"
   ]
  },
  {
   "cell_type": "code",
   "execution_count": 50,
   "metadata": {},
   "outputs": [
    {
     "data": {
      "text/plain": [
       "Text(0, 0.5, 'number of passengers')"
      ]
     },
     "execution_count": 50,
     "metadata": {},
     "output_type": "execute_result"
    },
    {
     "data": {
      "image/png": "[encoded data removed]",
      "text/plain": [
       "<Figure size 432x288 with 1 Axes>"
      ]
     },
     "metadata": {
      "needs_background": "light"
     },
     "output_type": "display_data"
    }
   ],
   "source": [
    "plot = data.Fare.hist(bins = 30)\n",
    "plot.set_title(\"Fare\")\n",
    "plot.set_xlabel(\"Fare\")\n",
    "plot.set_ylabel(\"number of passengers\")"
   ]
  },
  {
   "cell_type": "markdown",
   "metadata": {},
   "source": [
    "#### Earliere we have a fare upto 500 , but after handling the outliers , fare will be upto 100 only "
   ]
  },
  {
   "cell_type": "code",
   "execution_count": 54,
   "metadata": {},
   "outputs": [],
   "source": [
    "from sklearn.model_selection import train_test_split\n",
    "from sklearn.linear_model  import LogisticRegression\n",
    "from sklearn.metrics import accuracy_score  , roc_auc_score\n",
    "\n",
    "x_train , x_test , y_train , y_test = train_test_split(data[['Age','Fare']].fillna(0) , data['Survived'] , test_size=0.3)"
   ]
  },
  {
   "cell_type": "code",
   "execution_count": 58,
   "metadata": {},
   "outputs": [
    {
     "data": {
      "text/plain": [
       "array([[0.67934678, 0.32065322],\n",
       "       [0.71709898, 0.28290102],\n",
       "       [0.62226351, 0.37773649],\n",
       "       [0.73465839, 0.26534161],\n",
       "       [0.20442244, 0.79557756],\n",
       "       [0.71880749, 0.28119251],\n",
       "       [0.52940665, 0.47059335],\n",
       "       [0.71867629, 0.28132371],\n",
       "       [0.33278791, 0.66721209],\n",
       "       [0.74209924, 0.25790076],\n",
       "       [0.73640194, 0.26359806],\n",
       "       [0.71878545, 0.28121455],\n",
       "       [0.7197497 , 0.2802503 ],\n",
       "       [0.61419589, 0.38580411],\n",
       "       [0.21394952, 0.78605048],\n",
       "       [0.72340734, 0.27659266],\n",
       "       [0.75187038, 0.24812962],\n",
       "       [0.73654906, 0.26345094],\n",
       "       [0.3397883 , 0.6602117 ],\n",
       "       [0.63373037, 0.36626963],\n",
       "       [0.73408283, 0.26591717],\n",
       "       [0.73635922, 0.26364078],\n",
       "       [0.72261177, 0.27738823],\n",
       "       [0.71342073, 0.28657927],\n",
       "       [0.72932329, 0.27067671],\n",
       "       [0.60615988, 0.39384012],\n",
       "       [0.71342073, 0.28657927],\n",
       "       [0.71878545, 0.28121455],\n",
       "       [0.74642491, 0.25357509],\n",
       "       [0.67657449, 0.32342551],\n",
       "       [0.71527423, 0.28472577],\n",
       "       [0.73138158, 0.26861842],\n",
       "       [0.71445826, 0.28554174],\n",
       "       [0.73675857, 0.26324143],\n",
       "       [0.73675857, 0.26324143],\n",
       "       [0.31122326, 0.68877674],\n",
       "       [0.52135405, 0.47864595],\n",
       "       [0.21256896, 0.78743104],\n",
       "       [0.72157208, 0.27842792],\n",
       "       [0.71381179, 0.28618821],\n",
       "       [0.29575303, 0.70424697],\n",
       "       [0.67278647, 0.32721353],\n",
       "       [0.70307027, 0.29692973],\n",
       "       [0.73073034, 0.26926966],\n",
       "       [0.60479039, 0.39520961],\n",
       "       [0.74665201, 0.25334799],\n",
       "       [0.71914983, 0.28085017],\n",
       "       [0.64283092, 0.35716908],\n",
       "       [0.73659087, 0.26340913],\n",
       "       [0.7168583 , 0.2831417 ],\n",
       "       [0.63308595, 0.36691405],\n",
       "       [0.7382715 , 0.2617285 ],\n",
       "       [0.60498472, 0.39501528],\n",
       "       [0.71878545, 0.28121455],\n",
       "       [0.73108964, 0.26891036],\n",
       "       [0.74054262, 0.25945738],\n",
       "       [0.73723808, 0.26276192],\n",
       "       [0.20109723, 0.79890277],\n",
       "       [0.6663986 , 0.3336014 ],\n",
       "       [0.62806374, 0.37193626],\n",
       "       [0.74212049, 0.25787951],\n",
       "       [0.62643814, 0.37356186],\n",
       "       [0.50634502, 0.49365498],\n",
       "       [0.49341011, 0.50658989],\n",
       "       [0.71445826, 0.28554174],\n",
       "       [0.73864411, 0.26135589],\n",
       "       [0.71562623, 0.28437377],\n",
       "       [0.72165283, 0.27834717],\n",
       "       [0.61137278, 0.38862722],\n",
       "       [0.71527423, 0.28472577],\n",
       "       [0.71604447, 0.28395553],\n",
       "       [0.62417555, 0.37582445],\n",
       "       [0.73304633, 0.26695367],\n",
       "       [0.73874529, 0.26125471],\n",
       "       [0.76716066, 0.23283934],\n",
       "       [0.71604447, 0.28395553],\n",
       "       [0.64126475, 0.35873525],\n",
       "       [0.73660896, 0.26339104],\n",
       "       [0.66456684, 0.33543316],\n",
       "       [0.6748771 , 0.3251229 ],\n",
       "       [0.73587957, 0.26412043],\n",
       "       [0.47292585, 0.52707415],\n",
       "       [0.53321565, 0.46678435],\n",
       "       [0.70927715, 0.29072285],\n",
       "       [0.58784992, 0.41215008],\n",
       "       [0.31405999, 0.68594001],\n",
       "       [0.60751076, 0.39248924],\n",
       "       [0.61390793, 0.38609207],\n",
       "       [0.22024261, 0.77975739],\n",
       "       [0.72732097, 0.27267903],\n",
       "       [0.2098274 , 0.7901726 ],\n",
       "       [0.6699926 , 0.3300074 ],\n",
       "       [0.71829439, 0.28170561],\n",
       "       [0.55106478, 0.44893522],\n",
       "       [0.7309446 , 0.2690554 ],\n",
       "       [0.41567408, 0.58432592],\n",
       "       [0.73395612, 0.26604388],\n",
       "       [0.69570854, 0.30429146],\n",
       "       [0.71527423, 0.28472577],\n",
       "       [0.68991829, 0.31008171],\n",
       "       [0.73904123, 0.26095877],\n",
       "       [0.67925965, 0.32074035],\n",
       "       [0.70834734, 0.29165266],\n",
       "       [0.73175294, 0.26824706],\n",
       "       [0.71604447, 0.28395553],\n",
       "       [0.72260953, 0.27739047],\n",
       "       [0.6699926 , 0.3300074 ],\n",
       "       [0.62773954, 0.37226046],\n",
       "       [0.72486626, 0.27513374],\n",
       "       [0.67816486, 0.32183514],\n",
       "       [0.71880749, 0.28119251],\n",
       "       [0.71342073, 0.28657927],\n",
       "       [0.71548976, 0.28451024],\n",
       "       [0.54229249, 0.45770751],\n",
       "       [0.77117815, 0.22882185],\n",
       "       [0.74116565, 0.25883435],\n",
       "       [0.71527423, 0.28472577],\n",
       "       [0.61717216, 0.38282784],\n",
       "       [0.72650425, 0.27349575],\n",
       "       [0.72167791, 0.27832209],\n",
       "       [0.60306931, 0.39693069],\n",
       "       [0.47594297, 0.52405703],\n",
       "       [0.69528259, 0.30471741],\n",
       "       [0.38141203, 0.61858797],\n",
       "       [0.44515333, 0.55484667],\n",
       "       [0.63926817, 0.36073183],\n",
       "       [0.64454276, 0.35545724],\n",
       "       [0.57964958, 0.42035042],\n",
       "       [0.67342744, 0.32657256],\n",
       "       [0.20043707, 0.79956293],\n",
       "       [0.72923639, 0.27076361],\n",
       "       [0.48569086, 0.51430914],\n",
       "       [0.34115291, 0.65884709],\n",
       "       [0.71527423, 0.28472577],\n",
       "       [0.75492784, 0.24507216],\n",
       "       [0.73593394, 0.26406606],\n",
       "       [0.73238945, 0.26761055],\n",
       "       [0.20175902, 0.79824098],\n",
       "       [0.75512236, 0.24487764],\n",
       "       [0.73073034, 0.26926966],\n",
       "       [0.72587977, 0.27412023],\n",
       "       [0.71527423, 0.28472577],\n",
       "       [0.31978715, 0.68021285],\n",
       "       [0.71445826, 0.28554174],\n",
       "       [0.65818479, 0.34181521],\n",
       "       [0.71342073, 0.28657927],\n",
       "       [0.73032559, 0.26967441],\n",
       "       [0.2098274 , 0.7901726 ],\n",
       "       [0.69144689, 0.30855311],\n",
       "       [0.63894553, 0.36105447],\n",
       "       [0.7232797 , 0.2767203 ],\n",
       "       [0.71229091, 0.28770909],\n",
       "       [0.44315117, 0.55684883],\n",
       "       [0.70049143, 0.29950857],\n",
       "       [0.73359308, 0.26640692],\n",
       "       [0.70757751, 0.29242249],\n",
       "       [0.73334331, 0.26665669],\n",
       "       [0.73158232, 0.26841768],\n",
       "       [0.74914302, 0.25085698],\n",
       "       [0.56694888, 0.43305112],\n",
       "       [0.69319963, 0.30680037],\n",
       "       [0.56727579, 0.43272421],\n",
       "       [0.21325843, 0.78674157],\n",
       "       [0.71878545, 0.28121455],\n",
       "       [0.67368517, 0.32631483],\n",
       "       [0.68294848, 0.31705152],\n",
       "       [0.33449642, 0.66550358],\n",
       "       [0.68353599, 0.31646401],\n",
       "       [0.4872412 , 0.5127588 ],\n",
       "       [0.73673269, 0.26326731],\n",
       "       [0.71604447, 0.28395553],\n",
       "       [0.67911091, 0.32088909],\n",
       "       [0.2098274 , 0.7901726 ],\n",
       "       [0.71527423, 0.28472577],\n",
       "       [0.68874725, 0.31125275],\n",
       "       [0.44186703, 0.55813297],\n",
       "       [0.63900168, 0.36099832],\n",
       "       [0.23377819, 0.76622181],\n",
       "       [0.64317941, 0.35682059],\n",
       "       [0.65848514, 0.34151486],\n",
       "       [0.62773954, 0.37226046],\n",
       "       [0.73935511, 0.26064489],\n",
       "       [0.55787777, 0.44212223],\n",
       "       [0.63696666, 0.36303334],\n",
       "       [0.67795968, 0.32204032],\n",
       "       [0.59942183, 0.40057817],\n",
       "       [0.73885273, 0.26114727],\n",
       "       [0.72404499, 0.27595501],\n",
       "       [0.5793233 , 0.4206767 ],\n",
       "       [0.29071697, 0.70928303],\n",
       "       [0.44796335, 0.55203665],\n",
       "       [0.64170996, 0.35829004],\n",
       "       [0.67599144, 0.32400856],\n",
       "       [0.73163212, 0.26836788],\n",
       "       [0.71445826, 0.28554174],\n",
       "       [0.71880749, 0.28119251],\n",
       "       [0.73814263, 0.26185737],\n",
       "       [0.75607364, 0.24392636],\n",
       "       [0.72074794, 0.27925206],\n",
       "       [0.57299923, 0.42700077],\n",
       "       [0.56573784, 0.43426216],\n",
       "       [0.48878618, 0.51121382],\n",
       "       [0.71536199, 0.28463801],\n",
       "       [0.71677898, 0.28322102],\n",
       "       [0.74085318, 0.25914682],\n",
       "       [0.74222684, 0.25777316],\n",
       "       [0.7232222 , 0.2767778 ],\n",
       "       [0.66913684, 0.33086316],\n",
       "       [0.6748771 , 0.3251229 ],\n",
       "       [0.66224303, 0.33775697],\n",
       "       [0.74124793, 0.25875207],\n",
       "       [0.3355341 , 0.6644659 ],\n",
       "       [0.709065  , 0.290935  ],\n",
       "       [0.70169502, 0.29830498],\n",
       "       [0.73814263, 0.26185737],\n",
       "       [0.6699926 , 0.3300074 ],\n",
       "       [0.73327894, 0.26672106],\n",
       "       [0.7258961 , 0.2741039 ],\n",
       "       [0.71604447, 0.28395553],\n",
       "       [0.67943762, 0.32056238],\n",
       "       [0.35879908, 0.64120092],\n",
       "       [0.28211439, 0.71788561],\n",
       "       [0.64377499, 0.35622501],\n",
       "       [0.71128375, 0.28871625],\n",
       "       [0.33638285, 0.66361715],\n",
       "       [0.74367091, 0.25632909],\n",
       "       [0.7217579 , 0.2782421 ],\n",
       "       [0.73347368, 0.26652632],\n",
       "       [0.73013471, 0.26986529],\n",
       "       [0.673694  , 0.326306  ],\n",
       "       [0.72770029, 0.27229971],\n",
       "       [0.68880742, 0.31119258],\n",
       "       [0.73671372, 0.26328628],\n",
       "       [0.20711189, 0.79288811],\n",
       "       [0.58020568, 0.41979432],\n",
       "       [0.75080554, 0.24919446],\n",
       "       [0.73657367, 0.26342633],\n",
       "       [0.75214096, 0.24785904],\n",
       "       [0.18820215, 0.81179785],\n",
       "       [0.43222468, 0.56777532],\n",
       "       [0.77121007, 0.22878993],\n",
       "       [0.71867629, 0.28132371],\n",
       "       [0.71604447, 0.28395553],\n",
       "       [0.27238957, 0.72761043],\n",
       "       [0.70131091, 0.29868909],\n",
       "       [0.63659053, 0.36340947],\n",
       "       [0.50193257, 0.49806743],\n",
       "       [0.33638285, 0.66361715],\n",
       "       [0.70322148, 0.29677852],\n",
       "       [0.30705535, 0.69294465],\n",
       "       [0.6563968 , 0.3436032 ],\n",
       "       [0.20109723, 0.79890277],\n",
       "       [0.61419589, 0.38580411],\n",
       "       [0.60798293, 0.39201707],\n",
       "       [0.70749665, 0.29250335],\n",
       "       [0.53827473, 0.46172527],\n",
       "       [0.73966659, 0.26033341],\n",
       "       [0.67936997, 0.32063003],\n",
       "       [0.715519  , 0.284481  ],\n",
       "       [0.71173548, 0.28826452],\n",
       "       [0.60737224, 0.39262776],\n",
       "       [0.71233432, 0.28766568],\n",
       "       [0.6464257 , 0.3535743 ],\n",
       "       [0.48639971, 0.51360029],\n",
       "       [0.65711385, 0.34288615],\n",
       "       [0.72831924, 0.27168076],\n",
       "       [0.33546241, 0.66453759],\n",
       "       [0.70628966, 0.29371034]])"
      ]
     },
     "execution_count": 58,
     "metadata": {},
     "output_type": "execute_result"
    }
   ],
   "source": [
    "y_prd_prob"
   ]
  },
  {
   "cell_type": "code",
   "execution_count": 59,
   "metadata": {},
   "outputs": [
    {
     "name": "stdout",
     "output_type": "stream",
     "text": [
      "acc: -  0.6567164179104478\n",
      "roc: -  0.6861751688795714\n"
     ]
    }
   ],
   "source": [
    "# now built the simple model \n",
    "\n",
    "clf = LogisticRegression()\n",
    "clf.fit(x_train , y_train)\n",
    "y_pred = clf.predict(x_test)\n",
    "y_prd_prob = clf.predict_proba(x_test)\n",
    "\n",
    "print(\"acc: - \" , accuracy_score(y_test , y_pred))\n",
    "print(\"roc: - \" , roc_auc_score(y_test , y_prd_prob[:,1]))\n"
   ]
  },
  {
   "cell_type": "code",
   "execution_count": 60,
   "metadata": {},
   "outputs": [
    {
     "name": "stdout",
     "output_type": "stream",
     "text": [
      "acc: -  0.6604477611940298\n",
      "roc: -  0.7303167947822036\n"
     ]
    }
   ],
   "source": [
    "# now built the ensemble model \n",
    "from sklearn.ensemble import RandomForestClassifier\n",
    "clf = RandomForestClassifier()\n",
    "clf.fit(x_train , y_train)\n",
    "y_pred = clf.predict(x_test)\n",
    "y_prd_prob = clf.predict_proba(x_test)\n",
    "\n",
    "print(\"acc: - \" , accuracy_score(y_test , y_pred))\n",
    "print(\"roc: - \" , roc_auc_score(y_test , y_prd_prob[:,1]))\n"
   ]
  },
  {
   "cell_type": "code",
   "execution_count": null,
   "metadata": {},
   "outputs": [],
   "source": []
  }
 ],
 "metadata": {
  "kernelspec": {
   "display_name": "Python 3",
   "language": "python",
   "name": "python3"
  },
  "language_info": {
   "codemirror_mode": {
    "name": "ipython",
    "version": 3
   },
   "file_extension": ".py",
   "mimetype": "text/x-python",
   "name": "python",
   "nbconvert_exporter": "python",
   "pygments_lexer": "ipython3",
   "version": "3.8.5"
  }
 },
 "nbformat": 4,
 "nbformat_minor": 4
}
