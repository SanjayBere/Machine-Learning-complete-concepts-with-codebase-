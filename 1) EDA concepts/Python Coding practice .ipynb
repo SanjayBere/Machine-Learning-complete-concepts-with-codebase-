{
 "cells": [
  {
   "cell_type": "markdown",
   "metadata": {},
   "source": [
    "### Write a program to demonstrate different number data types "
   ]
  },
  {
   "cell_type": "code",
   "execution_count": 3,
   "metadata": {},
   "outputs": [
    {
     "name": "stdout",
     "output_type": "stream",
     "text": [
      "<class 'int'>\n",
      "<class 'float'>\n",
      "<class 'complex'>\n"
     ]
    }
   ],
   "source": [
    "a = 10\n",
    "b = 10.45\n",
    "c = 8.7j\n",
    "print(type(a))\n",
    "print(type(b))\n",
    "print(type(c))"
   ]
  },
  {
   "cell_type": "markdown",
   "metadata": {},
   "source": [
    "### Write a program to perform different arithmetic operations on numbers"
   ]
  },
  {
   "cell_type": "code",
   "execution_count": 4,
   "metadata": {},
   "outputs": [
    {
     "name": "stdout",
     "output_type": "stream",
     "text": [
      "Enter the first number: 12\n",
      "Enter the Second number: 2\n",
      "**********************************************************************\n",
      "\n",
      "Addition of 12 and 2 is 14\n",
      "Subtraction of 12 and 2 is 10\n",
      "Division of 12 and 2 is 6.0\n",
      "Multiplication of 12 and 2 is 24\n",
      "Modulo of 12 and 2 is 0\n",
      "Floor division of 12 and 2 is 6\n"
     ]
    }
   ],
   "source": [
    "a = int(input(\"Enter the first number: \"))\n",
    "b = int(input(\"Enter the Second number: \"))\n",
    "\n",
    "print(\"*\"*70)\n",
    "print(\"\\nAddition of {} and {} is {}\".format(a,b,(a+b)))\n",
    "print(\"Subtraction of {} and {} is {}\".format(a,b,(a-b)))\n",
    "print(\"Division of {} and {} is {}\".format(a,b,(a/b)))\n",
    "print(\"Multiplication of {} and {} is {}\".format(a,b,(a*b)))\n",
    "print(\"Modulo of {} and {} is {}\".format(a,b,(a%b)))\n",
    "print(\"Floor division of {} and {} is {}\".format(a,b,(a//b)))"
   ]
  },
  {
   "cell_type": "markdown",
   "metadata": {},
   "source": [
    "### Write a program to create, concatenate and print a string and accessing sub-string from a given string."
   ]
  },
  {
   "cell_type": "code",
   "execution_count": 5,
   "metadata": {},
   "outputs": [
    {
     "name": "stdout",
     "output_type": "stream",
     "text": [
      "Enter first string1\n",
      "Enter second stringadf\n",
      "**********************************************************************\n",
      "concatenation of 2 strings :  1adf\n",
      "Substring from a first string :  \n"
     ]
    }
   ],
   "source": [
    "s1 = input(\"Enter first string\")\n",
    "s2 = input(\"Enter second string\")\n",
    "\n",
    "print(\"*\"*70)\n",
    "print(\"concatenation of 2 strings : \",(s1+s2))\n",
    "print(\"Substring from a first string : \",(s1[1:4]))"
   ]
  },
  {
   "cell_type": "markdown",
   "metadata": {},
   "source": [
    "### Write a python script to print the current date in the following format “Sun May 29 02:26:23 IST 2017”"
   ]
  },
  {
   "cell_type": "code",
   "execution_count": 6,
   "metadata": {},
   "outputs": [
    {
     "name": "stdout",
     "output_type": "stream",
     "text": [
      "Fri Aug 20 14:30:18 India Standard Time 2021\n"
     ]
    }
   ],
   "source": [
    "import time\n",
    "t = time.localtime()\n",
    "print(time.strftime(\"%a %b %d %H:%M:%S %Z %Y\",t))\n",
    "\n",
    "# %a  Locale's abbreviated weekday name.\n",
    "# %A  Locale's full weekday name.\n",
    "# %b  Locale's abbreviated month name.\n",
    "# %B  Locale's full month name.\n",
    "# %c  Locale's appropriate date and time representation.\n",
    "# %I  Hour (12-hour clock) as a decimal number [01,12].\n",
    "# %p  Locale's equivalent of either AM or PM."
   ]
  },
  {
   "cell_type": "markdown",
   "metadata": {},
   "source": [
    "### Write a program to create , append and remove items from a list in python "
   ]
  },
  {
   "cell_type": "code",
   "execution_count": 7,
   "metadata": {},
   "outputs": [
    {
     "name": "stdout",
     "output_type": "stream",
     "text": [
      "before appending : [1, 2, 3, 4, 55, 52, 13, 5, 562, 1]\n",
      "after appending : [1, 2, 3, 4, 55, 52, 13, 5, 562, 1, [90, 78]]\n",
      "after extending : [1, 2, 3, 4, 55, 52, 13, 5, 562, 1, [90, 78], 7, 8, 4, 5]\n",
      "after removing : [1, 2, 3, 4, 55, 52, 13, 5, 562, 1, [90, 78], 7, 8, 4, 5]\n",
      "55\n",
      "after deleting : [1, 52, 13, 5, 562, 1, [90, 78], 7, 8, 4, 5]\n"
     ]
    }
   ],
   "source": [
    "#list creation\n",
    "lst =[]\n",
    "lst = [1,2,3,4,55,52,13,5,562,1]\n",
    "print(\"before appending :\",lst)\n",
    "# append\n",
    "lst.append([90,78])\n",
    "print(\"after appending :\",lst)\n",
    "# extend\n",
    "lst.extend([7,8,4,5])\n",
    "print(\"after extending :\",lst)\n",
    "# remove items from list\n",
    "# lst.remove(1) # removes first occurunce of item ----> remove(value)\n",
    "print(\"after removing :\",lst)\n",
    "v = lst.pop(4) # it remove and return the item at given index :---> pop(index)\n",
    "print(v)\n",
    "del(lst[1:4])\n",
    "print(\"after deleting :\",lst)"
   ]
  },
  {
   "cell_type": "markdown",
   "metadata": {},
   "source": [
    "### 6. Write a program to demonstrate working with tuples in python."
   ]
  },
  {
   "cell_type": "code",
   "execution_count": 8,
   "metadata": {},
   "outputs": [
    {
     "name": "stdout",
     "output_type": "stream",
     "text": [
      "2\n",
      "1\n"
     ]
    }
   ],
   "source": [
    "tp = (3,5,6,\"Hello\",7,9,4,5)\n",
    "r = tp.count(5)  # count--> it returns number of occurences of values\n",
    "print(r)\n",
    "idx = tp.index(5)  # index --> it returns first occurences of value\n",
    "print(idx)\n"
   ]
  },
  {
   "cell_type": "code",
   "execution_count": 9,
   "metadata": {},
   "outputs": [
    {
     "name": "stdout",
     "output_type": "stream",
     "text": [
      "(3, 5, 'world', 9.7)\n",
      "3\n",
      "5\n",
      "world\n",
      "9.7\n"
     ]
    }
   ],
   "source": [
    "# if you are creating tuple without paranthesis ,its called as tuple packing\n",
    "my_tup = 3,5,\"world\",9.7\n",
    "print(my_tup)\n",
    "\n",
    "# tuple unpacking \n",
    "a,b,c,d = my_tup\n",
    "print(a)\n",
    "print(b)\n",
    "print(c)\n",
    "print(d)\n",
    "\n",
    "\n"
   ]
  },
  {
   "cell_type": "code",
   "execution_count": 10,
   "metadata": {},
   "outputs": [
    {
     "name": "stdout",
     "output_type": "stream",
     "text": [
      "<class 'str'>\n",
      "<class 'tuple'>\n",
      "<class 'tuple'>\n"
     ]
    }
   ],
   "source": [
    "my_t = (\"hello\")\n",
    "print(type(my_t))\n",
    "# so it is necessary to have a trailing commas if only one element in tuple\n",
    "my_t1 = (\"hello\",)\n",
    "print(type(my_t1))\n",
    "my_t2 = \"hello\",\n",
    "print(type(my_t2))\n"
   ]
  },
  {
   "cell_type": "markdown",
   "metadata": {},
   "source": [
    "###  Write a program to demonstrate working with dictionary\n"
   ]
  },
  {
   "cell_type": "code",
   "execution_count": 11,
   "metadata": {},
   "outputs": [
    {
     "name": "stdout",
     "output_type": "stream",
     "text": [
      "{1: 'one', 2: 'two', 3: 'three', 4: 'four'}\n",
      "one\n",
      "dict_items([(1, 'one'), (2, 'two'), (3, 'three'), (4, 'four')])\n",
      "dict_keys([1, 2, 3, 4])\n",
      "dict_values(['one', 'two', 'three', 'four'])\n",
      "one\n"
     ]
    }
   ],
   "source": [
    "dic = {}\n",
    "type(dic)\n",
    "dic ={1:\"one\" , 2:\"two\" , 3:\"three\" , 4:\"four\"}\n",
    "print(dic)\n",
    "print(dic.get(1))\n",
    "print(dic.items())\n",
    "print(dic.keys())\n",
    "print(dic.values())\n",
    "print(dic.pop(1)) # removes key and return associated value of that key"
   ]
  },
  {
   "cell_type": "markdown",
   "metadata": {},
   "source": [
    "###  Write a python program to a find largest of 3 numbers\n"
   ]
  },
  {
   "cell_type": "code",
   "execution_count": 12,
   "metadata": {},
   "outputs": [
    {
     "name": "stdout",
     "output_type": "stream",
     "text": [
      "the largest number is  90\n"
     ]
    }
   ],
   "source": [
    "num1 = 90\n",
    "num2 =64\n",
    "num3 = 67\n",
    "\n",
    "if (num1 >= num2) and (num1 >= num3):\n",
    "    largest = num1\n",
    "elif (num2 >= num3) and (num2 >= num1):\n",
    "    largest = num2\n",
    "else:\n",
    "    largest = num3\n",
    "\n",
    "print(\"the largest number is \",largest)"
   ]
  },
  {
   "cell_type": "markdown",
   "metadata": {},
   "source": [
    "###  Write a Python program to convert temperatures to and from Celsius, Fahrenheit. [ Formula: c = (f-32)(5/9)]"
   ]
  },
  {
   "cell_type": "code",
   "execution_count": 13,
   "metadata": {},
   "outputs": [
    {
     "name": "stdout",
     "output_type": "stream",
     "text": [
      "enter the temperature32\n",
      "enter unit : C for celsius and F for Farenheitc\n",
      "New temp in Farenheit :  115.2\n"
     ]
    }
   ],
   "source": [
    "temp = float(input(\"enter the temperature\")) \n",
    "unit = input(\"enter unit : C for celsius and F for Farenheit\")\n",
    "\n",
    "if unit ==\"F\" or unit ==\"f\":\n",
    "    c = (temp-32)*(5/9)\n",
    "    print(\"New temp in celsius : \",c)\n",
    "elif unit ==\"C\" or unit == \"c\":\n",
    "    f = (temp+32)*(9/5)\n",
    "    print(\"New temp in Farenheit : \",f)\n",
    "else:\n",
    "    print(\"wrong unit detected\", unit)"
   ]
  },
  {
   "cell_type": "markdown",
   "metadata": {},
   "source": [
    "### Write a program to construct following pattern`"
   ]
  },
  {
   "cell_type": "raw",
   "metadata": {},
   "source": [
    "*\n",
    "**\n",
    "***\n",
    "****\n",
    "*****\n",
    "****\n",
    "***\n",
    "**\n",
    "*"
   ]
  },
  {
   "cell_type": "code",
   "execution_count": 14,
   "metadata": {},
   "outputs": [
    {
     "name": "stdout",
     "output_type": "stream",
     "text": [
      "* \n",
      "* * \n",
      "* * * \n",
      "* * * * \n",
      "* * * * * \n",
      "* * * * \n",
      "* * * \n",
      "* * \n",
      "* \n"
     ]
    }
   ],
   "source": [
    "rows = 5\n",
    "for i in range(1,rows):\n",
    "    for j in range(i):\n",
    "        print(\"* \" , end=\"\")\n",
    "    print(\"\")\n",
    "        \n",
    "for i in range(rows, 0,-1):\n",
    "    for j in range(i):\n",
    "        print(\"* \",end=\"\")\n",
    "    print(\"\")"
   ]
  },
  {
   "cell_type": "markdown",
   "metadata": {},
   "source": [
    "### W.A.P to print prime numbers less than 20\n"
   ]
  },
  {
   "cell_type": "code",
   "execution_count": 22,
   "metadata": {},
   "outputs": [
    {
     "name": "stdout",
     "output_type": "stream",
     "text": [
      "3\n",
      "5\n",
      "5\n",
      "5\n",
      "7\n",
      "7\n",
      "7\n",
      "7\n",
      "7\n",
      "9\n",
      "11\n",
      "11\n",
      "11\n",
      "11\n",
      "11\n",
      "11\n",
      "11\n",
      "11\n",
      "11\n",
      "13\n",
      "13\n",
      "13\n",
      "13\n",
      "13\n",
      "13\n",
      "13\n",
      "13\n",
      "13\n",
      "13\n",
      "13\n",
      "15\n",
      "17\n",
      "17\n",
      "17\n",
      "17\n",
      "17\n",
      "17\n",
      "17\n",
      "17\n",
      "17\n",
      "17\n",
      "17\n",
      "17\n",
      "17\n",
      "17\n",
      "17\n",
      "19\n",
      "19\n",
      "19\n",
      "19\n",
      "19\n",
      "19\n",
      "19\n",
      "19\n",
      "19\n",
      "19\n",
      "19\n",
      "19\n",
      "19\n",
      "19\n",
      "19\n",
      "19\n",
      "19\n"
     ]
    }
   ],
   "source": [
    "def prime(num):\n",
    "    for num in range(1,20):\n",
    "        for i in range(2,num):\n",
    "            if num%i == 0:\n",
    "                break\n",
    "            else:\n",
    "                print(num) \n",
    "\n",
    "prime(15)"
   ]
  },
  {
   "cell_type": "markdown",
   "metadata": {},
   "source": [
    "### Write a program that accepts the lengths of three sides of a triangle as inputs. The program output should indicate whether or not the triangle is a right triangle (Recall from the Pythagorean Theorem that in a right triangle, the square of one side equals the sum of the squares of the other two sides)."
   ]
  },
  {
   "cell_type": "code",
   "execution_count": 29,
   "metadata": {},
   "outputs": [
    {
     "name": "stdout",
     "output_type": "stream",
     "text": [
      "enter 1st side length25\n",
      "enter 2nd side length3\n",
      "enter 3rd side length4\n",
      "25\n",
      "Triangle is a ri8 angle triangle\n"
     ]
    }
   ],
   "source": [
    "a = int(input(\"enter 1st side length\"))\n",
    "b = int(input(\"enter 2nd side length\"))\n",
    "c = int(input(\"enter 3rd side length\"))\n",
    "\n",
    "hypo = (b**2)+(c**2)\n",
    "print(hypo)\n",
    "if a == (hypo):\n",
    "    print(\"Triangle is a ri8 angle triangle\")\n",
    "else:\n",
    "    print(\"It is not ri8 angle trianle\")"
   ]
  },
  {
   "cell_type": "markdown",
   "metadata": {},
   "source": [
    "### Write a python program to define a module to find Fibonacci Numbers and import the module to another program."
   ]
  },
  {
   "cell_type": "code",
   "execution_count": 31,
   "metadata": {},
   "outputs": [
    {
     "ename": "ModuleNotFoundError",
     "evalue": "No module named 'fibonacci'",
     "output_type": "error",
     "traceback": [
      "\u001b[1;31m---------------------------------------------------------------------------\u001b[0m",
      "\u001b[1;31mModuleNotFoundError\u001b[0m                       Traceback (most recent call last)",
      "\u001b[1;32m<ipython-input-31-7beebd4289a8>\u001b[0m in \u001b[0;36m<module>\u001b[1;34m\u001b[0m\n\u001b[0;32m      7\u001b[0m         \u001b[0mprint\u001b[0m\u001b[1;33m(\u001b[0m\u001b[0mb\u001b[0m\u001b[1;33m,\u001b[0m\u001b[0mend\u001b[0m\u001b[1;33m=\u001b[0m\u001b[1;34m\"\"\u001b[0m\u001b[1;33m)\u001b[0m\u001b[1;33m\u001b[0m\u001b[1;33m\u001b[0m\u001b[0m\n\u001b[0;32m      8\u001b[0m \u001b[1;33m\u001b[0m\u001b[0m\n\u001b[1;32m----> 9\u001b[1;33m \u001b[1;32mimport\u001b[0m \u001b[0mfibonacci\u001b[0m\u001b[1;33m\u001b[0m\u001b[1;33m\u001b[0m\u001b[0m\n\u001b[0m\u001b[0;32m     10\u001b[0m \u001b[0mfibonacci\u001b[0m\u001b[1;33m.\u001b[0m\u001b[0mfib\u001b[0m\u001b[1;33m(\u001b[0m\u001b[1;36m4\u001b[0m\u001b[1;33m)\u001b[0m\u001b[1;33m\u001b[0m\u001b[1;33m\u001b[0m\u001b[0m\n\u001b[0;32m     11\u001b[0m \u001b[1;33m\u001b[0m\u001b[0m\n",
      "\u001b[1;31mModuleNotFoundError\u001b[0m: No module named 'fibonacci'"
     ]
    }
   ],
   "source": [
    "# fibonacci series \n",
    "def fib(n):\n",
    "    a = 0 \n",
    "    b=1 \n",
    "    while b < n:\n",
    "        a = b , b = a+b\n",
    "        print(b,end=\"\")\n",
    "            "
   ]
  },
  {
   "cell_type": "markdown",
   "metadata": {},
   "source": [
    "### Read and write file "
   ]
  },
  {
   "cell_type": "code",
   "execution_count": 33,
   "metadata": {},
   "outputs": [
    {
     "name": "stdout",
     "output_type": "stream",
     "text": [
      "enter the input filename with extensionin.txt\n",
      "enter the output filename with extensionout.txt\n"
     ]
    },
    {
     "ename": "FileNotFoundError",
     "evalue": "[Errno 2] No such file or directory: 'in.txt'",
     "output_type": "error",
     "traceback": [
      "\u001b[1;31m---------------------------------------------------------------------------\u001b[0m",
      "\u001b[1;31mFileNotFoundError\u001b[0m                         Traceback (most recent call last)",
      "\u001b[1;32m<ipython-input-33-198212c70a4b>\u001b[0m in \u001b[0;36m<module>\u001b[1;34m\u001b[0m\n\u001b[0;32m      2\u001b[0m \u001b[0moutfile\u001b[0m \u001b[1;33m=\u001b[0m \u001b[0minput\u001b[0m\u001b[1;33m(\u001b[0m\u001b[1;34m\"enter the output filename with extension\"\u001b[0m\u001b[1;33m)\u001b[0m\u001b[1;33m\u001b[0m\u001b[1;33m\u001b[0m\u001b[0m\n\u001b[0;32m      3\u001b[0m \u001b[1;33m\u001b[0m\u001b[0m\n\u001b[1;32m----> 4\u001b[1;33m \u001b[0mf1\u001b[0m \u001b[1;33m=\u001b[0m \u001b[0mopen\u001b[0m\u001b[1;33m(\u001b[0m\u001b[0minfile\u001b[0m\u001b[1;33m,\u001b[0m\u001b[1;34m\"r\"\u001b[0m\u001b[1;33m)\u001b[0m\u001b[1;33m\u001b[0m\u001b[1;33m\u001b[0m\u001b[0m\n\u001b[0m\u001b[0;32m      5\u001b[0m \u001b[0mf2\u001b[0m \u001b[1;33m=\u001b[0m \u001b[0mopen\u001b[0m\u001b[1;33m(\u001b[0m\u001b[0moutfile\u001b[0m \u001b[1;33m,\u001b[0m\u001b[1;34m\"w+\"\u001b[0m\u001b[1;33m)\u001b[0m\u001b[1;33m\u001b[0m\u001b[1;33m\u001b[0m\u001b[0m\n\u001b[0;32m      6\u001b[0m \u001b[1;33m\u001b[0m\u001b[0m\n",
      "\u001b[1;31mFileNotFoundError\u001b[0m: [Errno 2] No such file or directory: 'in.txt'"
     ]
    }
   ],
   "source": [
    "infile = input(\"enter the input filename with extension\")\n",
    "outfile = input(\"enter the output filename with extension\")\n",
    "\n",
    "f1 = open(infile,\"r\")\n",
    "f2 = open(outfile ,\"w+\")\n",
    "\n",
    "content = f1.read()\n",
    "f2.write(content)"
   ]
  },
  {
   "cell_type": "markdown",
   "metadata": {},
   "source": [
    "###  Write a program that inputs a text file. The program should print all of the unique words in the file in alphabetical order."
   ]
  },
  {
   "cell_type": "code",
   "execution_count": null,
   "metadata": {},
   "outputs": [],
   "source": [
    "infile = open(file = in.txt , \"r\")\n",
    "content = infile.read()\n",
    "infile.close()"
   ]
  },
  {
   "cell_type": "markdown",
   "metadata": {},
   "source": [
    "### Write a Python class to reverse a string word by word."
   ]
  },
  {
   "cell_type": "code",
   "execution_count": 36,
   "metadata": {},
   "outputs": [
    {
     "name": "stdout",
     "output_type": "stream",
     "text": [
      "langauge python to welcome\n"
     ]
    }
   ],
   "source": [
    "# input str= welcome to python langauge\n",
    "\n",
    "class reverse_str():\n",
    "    def rev(self,str):\n",
    "        return ' '.join(reversed(str.split()))\n",
    "    \n",
    "print(reverse_str().rev(\"welcome to python langauge\"))"
   ]
  },
  {
   "cell_type": "code",
   "execution_count": null,
   "metadata": {},
   "outputs": [],
   "source": []
  }
 ],
 "metadata": {
  "kernelspec": {
   "display_name": "Python 3",
   "language": "python",
   "name": "python3"
  },
  "language_info": {
   "codemirror_mode": {
    "name": "ipython",
    "version": 3
   },
   "file_extension": ".py",
   "mimetype": "text/x-python",
   "name": "python",
   "nbconvert_exporter": "python",
   "pygments_lexer": "ipython3",
   "version": "3.8.5"
  }
 },
 "nbformat": 4,
 "nbformat_minor": 4
}
