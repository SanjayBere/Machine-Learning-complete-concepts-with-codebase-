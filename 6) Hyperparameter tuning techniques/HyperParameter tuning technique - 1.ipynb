{
 "cells": [
  {
   "cell_type": "code",
   "execution_count": 1,
   "metadata": {},
   "outputs": [],
   "source": [
    "import warnings\n",
    "warnings.filterwarnings('ignore')"
   ]
  },
  {
   "cell_type": "code",
   "execution_count": 2,
   "metadata": {},
   "outputs": [
    {
     "data": {
      "text/html": [
       "<div>\n",
       "<style scoped>\n",
       "    .dataframe tbody tr th:only-of-type {\n",
       "        vertical-align: middle;\n",
       "    }\n",
       "\n",
       "    .dataframe tbody tr th {\n",
       "        vertical-align: top;\n",
       "    }\n",
       "\n",
       "    .dataframe thead th {\n",
       "        text-align: right;\n",
       "    }\n",
       "</style>\n",
       "<table border=\"1\" class=\"dataframe\">\n",
       "  <thead>\n",
       "    <tr style=\"text-align: right;\">\n",
       "      <th></th>\n",
       "      <th>Pregnancies</th>\n",
       "      <th>Glucose</th>\n",
       "      <th>BloodPressure</th>\n",
       "      <th>SkinThickness</th>\n",
       "      <th>Insulin</th>\n",
       "      <th>BMI</th>\n",
       "      <th>DiabetesPedigreeFunction</th>\n",
       "      <th>Age</th>\n",
       "      <th>Outcome</th>\n",
       "    </tr>\n",
       "  </thead>\n",
       "  <tbody>\n",
       "    <tr>\n",
       "      <th>0</th>\n",
       "      <td>6</td>\n",
       "      <td>148</td>\n",
       "      <td>72</td>\n",
       "      <td>35</td>\n",
       "      <td>0</td>\n",
       "      <td>33.6</td>\n",
       "      <td>0.627</td>\n",
       "      <td>50</td>\n",
       "      <td>1</td>\n",
       "    </tr>\n",
       "    <tr>\n",
       "      <th>1</th>\n",
       "      <td>1</td>\n",
       "      <td>85</td>\n",
       "      <td>66</td>\n",
       "      <td>29</td>\n",
       "      <td>0</td>\n",
       "      <td>26.6</td>\n",
       "      <td>0.351</td>\n",
       "      <td>31</td>\n",
       "      <td>0</td>\n",
       "    </tr>\n",
       "    <tr>\n",
       "      <th>2</th>\n",
       "      <td>8</td>\n",
       "      <td>183</td>\n",
       "      <td>64</td>\n",
       "      <td>0</td>\n",
       "      <td>0</td>\n",
       "      <td>23.3</td>\n",
       "      <td>0.672</td>\n",
       "      <td>32</td>\n",
       "      <td>1</td>\n",
       "    </tr>\n",
       "    <tr>\n",
       "      <th>3</th>\n",
       "      <td>1</td>\n",
       "      <td>89</td>\n",
       "      <td>66</td>\n",
       "      <td>23</td>\n",
       "      <td>94</td>\n",
       "      <td>28.1</td>\n",
       "      <td>0.167</td>\n",
       "      <td>21</td>\n",
       "      <td>0</td>\n",
       "    </tr>\n",
       "    <tr>\n",
       "      <th>4</th>\n",
       "      <td>0</td>\n",
       "      <td>137</td>\n",
       "      <td>40</td>\n",
       "      <td>35</td>\n",
       "      <td>168</td>\n",
       "      <td>43.1</td>\n",
       "      <td>2.288</td>\n",
       "      <td>33</td>\n",
       "      <td>1</td>\n",
       "    </tr>\n",
       "  </tbody>\n",
       "</table>\n",
       "</div>"
      ],
      "text/plain": [
       "   Pregnancies  Glucose  BloodPressure  SkinThickness  Insulin   BMI  \\\n",
       "0            6      148             72             35        0  33.6   \n",
       "1            1       85             66             29        0  26.6   \n",
       "2            8      183             64              0        0  23.3   \n",
       "3            1       89             66             23       94  28.1   \n",
       "4            0      137             40             35      168  43.1   \n",
       "\n",
       "   DiabetesPedigreeFunction  Age  Outcome  \n",
       "0                     0.627   50        1  \n",
       "1                     0.351   31        0  \n",
       "2                     0.672   32        1  \n",
       "3                     0.167   21        0  \n",
       "4                     2.288   33        1  "
      ]
     },
     "execution_count": 2,
     "metadata": {},
     "output_type": "execute_result"
    }
   ],
   "source": [
    "import numpy as np\n",
    "import pandas as pd\n",
    "df = pd.read_csv('diabetes.csv')\n",
    "df.head()"
   ]
  },
  {
   "cell_type": "code",
   "execution_count": 3,
   "metadata": {},
   "outputs": [
    {
     "name": "stdout",
     "output_type": "stream",
     "text": [
      "<class 'pandas.core.frame.DataFrame'>\n",
      "RangeIndex: 768 entries, 0 to 767\n",
      "Data columns (total 9 columns):\n",
      " #   Column                    Non-Null Count  Dtype  \n",
      "---  ------                    --------------  -----  \n",
      " 0   Pregnancies               768 non-null    int64  \n",
      " 1   Glucose                   768 non-null    int64  \n",
      " 2   BloodPressure             768 non-null    int64  \n",
      " 3   SkinThickness             768 non-null    int64  \n",
      " 4   Insulin                   768 non-null    int64  \n",
      " 5   BMI                       768 non-null    float64\n",
      " 6   DiabetesPedigreeFunction  768 non-null    float64\n",
      " 7   Age                       768 non-null    int64  \n",
      " 8   Outcome                   768 non-null    int64  \n",
      "dtypes: float64(2), int64(7)\n",
      "memory usage: 54.1 KB\n"
     ]
    }
   ],
   "source": [
    "df.info()"
   ]
  },
  {
   "cell_type": "code",
   "execution_count": 4,
   "metadata": {},
   "outputs": [
    {
     "data": {
      "text/html": [
       "<div>\n",
       "<style scoped>\n",
       "    .dataframe tbody tr th:only-of-type {\n",
       "        vertical-align: middle;\n",
       "    }\n",
       "\n",
       "    .dataframe tbody tr th {\n",
       "        vertical-align: top;\n",
       "    }\n",
       "\n",
       "    .dataframe thead th {\n",
       "        text-align: right;\n",
       "    }\n",
       "</style>\n",
       "<table border=\"1\" class=\"dataframe\">\n",
       "  <thead>\n",
       "    <tr style=\"text-align: right;\">\n",
       "      <th></th>\n",
       "      <th>Pregnancies</th>\n",
       "      <th>Glucose</th>\n",
       "      <th>BloodPressure</th>\n",
       "      <th>SkinThickness</th>\n",
       "      <th>Insulin</th>\n",
       "      <th>BMI</th>\n",
       "      <th>DiabetesPedigreeFunction</th>\n",
       "      <th>Age</th>\n",
       "      <th>Outcome</th>\n",
       "    </tr>\n",
       "  </thead>\n",
       "  <tbody>\n",
       "    <tr>\n",
       "      <th>count</th>\n",
       "      <td>768.000000</td>\n",
       "      <td>768.000000</td>\n",
       "      <td>768.000000</td>\n",
       "      <td>768.000000</td>\n",
       "      <td>768.000000</td>\n",
       "      <td>768.000000</td>\n",
       "      <td>768.000000</td>\n",
       "      <td>768.000000</td>\n",
       "      <td>768.000000</td>\n",
       "    </tr>\n",
       "    <tr>\n",
       "      <th>mean</th>\n",
       "      <td>3.845052</td>\n",
       "      <td>120.894531</td>\n",
       "      <td>69.105469</td>\n",
       "      <td>20.536458</td>\n",
       "      <td>79.799479</td>\n",
       "      <td>31.992578</td>\n",
       "      <td>0.471876</td>\n",
       "      <td>33.240885</td>\n",
       "      <td>0.348958</td>\n",
       "    </tr>\n",
       "    <tr>\n",
       "      <th>std</th>\n",
       "      <td>3.369578</td>\n",
       "      <td>31.972618</td>\n",
       "      <td>19.355807</td>\n",
       "      <td>15.952218</td>\n",
       "      <td>115.244002</td>\n",
       "      <td>7.884160</td>\n",
       "      <td>0.331329</td>\n",
       "      <td>11.760232</td>\n",
       "      <td>0.476951</td>\n",
       "    </tr>\n",
       "    <tr>\n",
       "      <th>min</th>\n",
       "      <td>0.000000</td>\n",
       "      <td>0.000000</td>\n",
       "      <td>0.000000</td>\n",
       "      <td>0.000000</td>\n",
       "      <td>0.000000</td>\n",
       "      <td>0.000000</td>\n",
       "      <td>0.078000</td>\n",
       "      <td>21.000000</td>\n",
       "      <td>0.000000</td>\n",
       "    </tr>\n",
       "    <tr>\n",
       "      <th>25%</th>\n",
       "      <td>1.000000</td>\n",
       "      <td>99.000000</td>\n",
       "      <td>62.000000</td>\n",
       "      <td>0.000000</td>\n",
       "      <td>0.000000</td>\n",
       "      <td>27.300000</td>\n",
       "      <td>0.243750</td>\n",
       "      <td>24.000000</td>\n",
       "      <td>0.000000</td>\n",
       "    </tr>\n",
       "    <tr>\n",
       "      <th>50%</th>\n",
       "      <td>3.000000</td>\n",
       "      <td>117.000000</td>\n",
       "      <td>72.000000</td>\n",
       "      <td>23.000000</td>\n",
       "      <td>30.500000</td>\n",
       "      <td>32.000000</td>\n",
       "      <td>0.372500</td>\n",
       "      <td>29.000000</td>\n",
       "      <td>0.000000</td>\n",
       "    </tr>\n",
       "    <tr>\n",
       "      <th>75%</th>\n",
       "      <td>6.000000</td>\n",
       "      <td>140.250000</td>\n",
       "      <td>80.000000</td>\n",
       "      <td>32.000000</td>\n",
       "      <td>127.250000</td>\n",
       "      <td>36.600000</td>\n",
       "      <td>0.626250</td>\n",
       "      <td>41.000000</td>\n",
       "      <td>1.000000</td>\n",
       "    </tr>\n",
       "    <tr>\n",
       "      <th>max</th>\n",
       "      <td>17.000000</td>\n",
       "      <td>199.000000</td>\n",
       "      <td>122.000000</td>\n",
       "      <td>99.000000</td>\n",
       "      <td>846.000000</td>\n",
       "      <td>67.100000</td>\n",
       "      <td>2.420000</td>\n",
       "      <td>81.000000</td>\n",
       "      <td>1.000000</td>\n",
       "    </tr>\n",
       "  </tbody>\n",
       "</table>\n",
       "</div>"
      ],
      "text/plain": [
       "       Pregnancies     Glucose  BloodPressure  SkinThickness     Insulin  \\\n",
       "count   768.000000  768.000000     768.000000     768.000000  768.000000   \n",
       "mean      3.845052  120.894531      69.105469      20.536458   79.799479   \n",
       "std       3.369578   31.972618      19.355807      15.952218  115.244002   \n",
       "min       0.000000    0.000000       0.000000       0.000000    0.000000   \n",
       "25%       1.000000   99.000000      62.000000       0.000000    0.000000   \n",
       "50%       3.000000  117.000000      72.000000      23.000000   30.500000   \n",
       "75%       6.000000  140.250000      80.000000      32.000000  127.250000   \n",
       "max      17.000000  199.000000     122.000000      99.000000  846.000000   \n",
       "\n",
       "              BMI  DiabetesPedigreeFunction         Age     Outcome  \n",
       "count  768.000000                768.000000  768.000000  768.000000  \n",
       "mean    31.992578                  0.471876   33.240885    0.348958  \n",
       "std      7.884160                  0.331329   11.760232    0.476951  \n",
       "min      0.000000                  0.078000   21.000000    0.000000  \n",
       "25%     27.300000                  0.243750   24.000000    0.000000  \n",
       "50%     32.000000                  0.372500   29.000000    0.000000  \n",
       "75%     36.600000                  0.626250   41.000000    1.000000  \n",
       "max     67.100000                  2.420000   81.000000    1.000000  "
      ]
     },
     "execution_count": 4,
     "metadata": {},
     "output_type": "execute_result"
    }
   ],
   "source": [
    "df.describe()"
   ]
  },
  {
   "cell_type": "code",
   "execution_count": 5,
   "metadata": {},
   "outputs": [
    {
     "data": {
      "text/plain": [
       "Pregnancies                 0\n",
       "Glucose                     0\n",
       "BloodPressure               0\n",
       "SkinThickness               0\n",
       "Insulin                     0\n",
       "BMI                         0\n",
       "DiabetesPedigreeFunction    0\n",
       "Age                         0\n",
       "Outcome                     0\n",
       "dtype: int64"
      ]
     },
     "execution_count": 5,
     "metadata": {},
     "output_type": "execute_result"
    }
   ],
   "source": [
    "df.isnull().sum()"
   ]
  },
  {
   "cell_type": "markdown",
   "metadata": {},
   "source": [
    "### As in Glucose, insulin column , some values are 0 . In real world we dont have the glucose and insulin as 0 , so we are simply replacing 0 with median value"
   ]
  },
  {
   "cell_type": "code",
   "execution_count": 6,
   "metadata": {},
   "outputs": [
    {
     "data": {
      "text/html": [
       "<div>\n",
       "<style scoped>\n",
       "    .dataframe tbody tr th:only-of-type {\n",
       "        vertical-align: middle;\n",
       "    }\n",
       "\n",
       "    .dataframe tbody tr th {\n",
       "        vertical-align: top;\n",
       "    }\n",
       "\n",
       "    .dataframe thead th {\n",
       "        text-align: right;\n",
       "    }\n",
       "</style>\n",
       "<table border=\"1\" class=\"dataframe\">\n",
       "  <thead>\n",
       "    <tr style=\"text-align: right;\">\n",
       "      <th></th>\n",
       "      <th>Pregnancies</th>\n",
       "      <th>Glucose</th>\n",
       "      <th>BloodPressure</th>\n",
       "      <th>SkinThickness</th>\n",
       "      <th>Insulin</th>\n",
       "      <th>BMI</th>\n",
       "      <th>DiabetesPedigreeFunction</th>\n",
       "      <th>Age</th>\n",
       "      <th>Outcome</th>\n",
       "    </tr>\n",
       "  </thead>\n",
       "  <tbody>\n",
       "    <tr>\n",
       "      <th>0</th>\n",
       "      <td>6</td>\n",
       "      <td>148.0</td>\n",
       "      <td>72</td>\n",
       "      <td>35.0</td>\n",
       "      <td>30.5</td>\n",
       "      <td>33.6</td>\n",
       "      <td>0.627</td>\n",
       "      <td>50</td>\n",
       "      <td>1</td>\n",
       "    </tr>\n",
       "    <tr>\n",
       "      <th>1</th>\n",
       "      <td>1</td>\n",
       "      <td>85.0</td>\n",
       "      <td>66</td>\n",
       "      <td>29.0</td>\n",
       "      <td>30.5</td>\n",
       "      <td>26.6</td>\n",
       "      <td>0.351</td>\n",
       "      <td>31</td>\n",
       "      <td>0</td>\n",
       "    </tr>\n",
       "    <tr>\n",
       "      <th>2</th>\n",
       "      <td>8</td>\n",
       "      <td>183.0</td>\n",
       "      <td>64</td>\n",
       "      <td>23.0</td>\n",
       "      <td>30.5</td>\n",
       "      <td>23.3</td>\n",
       "      <td>0.672</td>\n",
       "      <td>32</td>\n",
       "      <td>1</td>\n",
       "    </tr>\n",
       "    <tr>\n",
       "      <th>3</th>\n",
       "      <td>1</td>\n",
       "      <td>89.0</td>\n",
       "      <td>66</td>\n",
       "      <td>23.0</td>\n",
       "      <td>94.0</td>\n",
       "      <td>28.1</td>\n",
       "      <td>0.167</td>\n",
       "      <td>21</td>\n",
       "      <td>0</td>\n",
       "    </tr>\n",
       "    <tr>\n",
       "      <th>4</th>\n",
       "      <td>0</td>\n",
       "      <td>137.0</td>\n",
       "      <td>40</td>\n",
       "      <td>35.0</td>\n",
       "      <td>168.0</td>\n",
       "      <td>43.1</td>\n",
       "      <td>2.288</td>\n",
       "      <td>33</td>\n",
       "      <td>1</td>\n",
       "    </tr>\n",
       "  </tbody>\n",
       "</table>\n",
       "</div>"
      ],
      "text/plain": [
       "   Pregnancies  Glucose  BloodPressure  SkinThickness  Insulin   BMI  \\\n",
       "0            6    148.0             72           35.0     30.5  33.6   \n",
       "1            1     85.0             66           29.0     30.5  26.6   \n",
       "2            8    183.0             64           23.0     30.5  23.3   \n",
       "3            1     89.0             66           23.0     94.0  28.1   \n",
       "4            0    137.0             40           35.0    168.0  43.1   \n",
       "\n",
       "   DiabetesPedigreeFunction  Age  Outcome  \n",
       "0                     0.627   50        1  \n",
       "1                     0.351   31        0  \n",
       "2                     0.672   32        1  \n",
       "3                     0.167   21        0  \n",
       "4                     2.288   33        1  "
      ]
     },
     "execution_count": 6,
     "metadata": {},
     "output_type": "execute_result"
    }
   ],
   "source": [
    "df['Glucose'] = np.where(df['Glucose'] == 0, df['Glucose'].median(), df['Glucose'])\n",
    "df['Insulin'] = np.where(df['Insulin'] == 0, df['Insulin'].median(), df['Insulin'])\n",
    "df['SkinThickness'] = np.where(df['SkinThickness'] == 0, df['SkinThickness'].median(), df['SkinThickness'])\n",
    "df.head()"
   ]
  },
  {
   "cell_type": "code",
   "execution_count": 7,
   "metadata": {},
   "outputs": [],
   "source": [
    "X = df.drop('Outcome', axis=1)\n",
    "y = df['Outcome']"
   ]
  },
  {
   "cell_type": "code",
   "execution_count": 8,
   "metadata": {},
   "outputs": [
    {
     "data": {
      "text/html": [
       "<div>\n",
       "<style scoped>\n",
       "    .dataframe tbody tr th:only-of-type {\n",
       "        vertical-align: middle;\n",
       "    }\n",
       "\n",
       "    .dataframe tbody tr th {\n",
       "        vertical-align: top;\n",
       "    }\n",
       "\n",
       "    .dataframe thead th {\n",
       "        text-align: right;\n",
       "    }\n",
       "</style>\n",
       "<table border=\"1\" class=\"dataframe\">\n",
       "  <thead>\n",
       "    <tr style=\"text-align: right;\">\n",
       "      <th></th>\n",
       "      <th>Pregnancies</th>\n",
       "      <th>Glucose</th>\n",
       "      <th>BloodPressure</th>\n",
       "      <th>SkinThickness</th>\n",
       "      <th>Insulin</th>\n",
       "      <th>BMI</th>\n",
       "      <th>DiabetesPedigreeFunction</th>\n",
       "      <th>Age</th>\n",
       "    </tr>\n",
       "  </thead>\n",
       "  <tbody>\n",
       "    <tr>\n",
       "      <th>0</th>\n",
       "      <td>6</td>\n",
       "      <td>148.0</td>\n",
       "      <td>72</td>\n",
       "      <td>35.0</td>\n",
       "      <td>30.5</td>\n",
       "      <td>33.6</td>\n",
       "      <td>0.627</td>\n",
       "      <td>50</td>\n",
       "    </tr>\n",
       "    <tr>\n",
       "      <th>1</th>\n",
       "      <td>1</td>\n",
       "      <td>85.0</td>\n",
       "      <td>66</td>\n",
       "      <td>29.0</td>\n",
       "      <td>30.5</td>\n",
       "      <td>26.6</td>\n",
       "      <td>0.351</td>\n",
       "      <td>31</td>\n",
       "    </tr>\n",
       "    <tr>\n",
       "      <th>2</th>\n",
       "      <td>8</td>\n",
       "      <td>183.0</td>\n",
       "      <td>64</td>\n",
       "      <td>23.0</td>\n",
       "      <td>30.5</td>\n",
       "      <td>23.3</td>\n",
       "      <td>0.672</td>\n",
       "      <td>32</td>\n",
       "    </tr>\n",
       "    <tr>\n",
       "      <th>3</th>\n",
       "      <td>1</td>\n",
       "      <td>89.0</td>\n",
       "      <td>66</td>\n",
       "      <td>23.0</td>\n",
       "      <td>94.0</td>\n",
       "      <td>28.1</td>\n",
       "      <td>0.167</td>\n",
       "      <td>21</td>\n",
       "    </tr>\n",
       "    <tr>\n",
       "      <th>4</th>\n",
       "      <td>0</td>\n",
       "      <td>137.0</td>\n",
       "      <td>40</td>\n",
       "      <td>35.0</td>\n",
       "      <td>168.0</td>\n",
       "      <td>43.1</td>\n",
       "      <td>2.288</td>\n",
       "      <td>33</td>\n",
       "    </tr>\n",
       "  </tbody>\n",
       "</table>\n",
       "</div>"
      ],
      "text/plain": [
       "   Pregnancies  Glucose  BloodPressure  SkinThickness  Insulin   BMI  \\\n",
       "0            6    148.0             72           35.0     30.5  33.6   \n",
       "1            1     85.0             66           29.0     30.5  26.6   \n",
       "2            8    183.0             64           23.0     30.5  23.3   \n",
       "3            1     89.0             66           23.0     94.0  28.1   \n",
       "4            0    137.0             40           35.0    168.0  43.1   \n",
       "\n",
       "   DiabetesPedigreeFunction  Age  \n",
       "0                     0.627   50  \n",
       "1                     0.351   31  \n",
       "2                     0.672   32  \n",
       "3                     0.167   21  \n",
       "4                     2.288   33  "
      ]
     },
     "execution_count": 8,
     "metadata": {},
     "output_type": "execute_result"
    }
   ],
   "source": [
    "X.head()"
   ]
  },
  {
   "cell_type": "code",
   "execution_count": 9,
   "metadata": {},
   "outputs": [],
   "source": [
    "# spplitting the data into train test\n",
    "from sklearn.model_selection import train_test_split\n",
    "X_train, X_test, y_train, y_test = train_test_split(X, y, test_size=0.2, random_state=22)"
   ]
  },
  {
   "cell_type": "code",
   "execution_count": 10,
   "metadata": {},
   "outputs": [
    {
     "data": {
      "text/plain": [
       "(614, 8)"
      ]
     },
     "execution_count": 10,
     "metadata": {},
     "output_type": "execute_result"
    }
   ],
   "source": [
    "X_train.shape"
   ]
  },
  {
   "cell_type": "code",
   "execution_count": 11,
   "metadata": {},
   "outputs": [
    {
     "data": {
      "text/plain": [
       "(154, 8)"
      ]
     },
     "execution_count": 11,
     "metadata": {},
     "output_type": "execute_result"
    }
   ],
   "source": [
    "X_test.shape"
   ]
  },
  {
   "cell_type": "markdown",
   "metadata": {},
   "source": [
    "### Type 1: Simply we are tuning with the no. of estimators and observing the performance of the model"
   ]
  },
  {
   "cell_type": "code",
   "execution_count": 12,
   "metadata": {},
   "outputs": [],
   "source": [
    "from sklearn.ensemble import RandomForestClassifier\n",
    "rf_clf = RandomForestClassifier(n_estimators=10).fit(X_train,y_train)\n",
    "rf_predict = rf_clf.predict(X_test)"
   ]
  },
  {
   "cell_type": "code",
   "execution_count": 13,
   "metadata": {},
   "outputs": [
    {
     "name": "stdout",
     "output_type": "stream",
     "text": [
      "              precision    recall  f1-score   support\n",
      "\n",
      "           0       0.73      0.94      0.82       100\n",
      "           1       0.76      0.35      0.48        54\n",
      "\n",
      "    accuracy                           0.73       154\n",
      "   macro avg       0.74      0.65      0.65       154\n",
      "weighted avg       0.74      0.73      0.70       154\n",
      "\n",
      "0.7337662337662337\n",
      "[[94  6]\n",
      " [35 19]]\n"
     ]
    }
   ],
   "source": [
    "from sklearn.metrics import classification_report, accuracy_score, confusion_matrix\n",
    "\n",
    "print(classification_report(y_test, rf_predict))\n",
    "print(accuracy_score(y_test, rf_predict))\n",
    "print(confusion_matrix(y_test, rf_predict))"
   ]
  },
  {
   "cell_type": "code",
   "execution_count": 14,
   "metadata": {},
   "outputs": [],
   "source": [
    "###  Manual hyperparameter tuning \n",
    "rf_manual = RandomForestClassifier(n_estimators=250, criterion='entropy', max_depth=10, max_features='sqrt', min_samples_leaf=10, random_state=200).fit(X_train, y_train)\n",
    "rf_man_predict = rf_manual.predict(X_test)"
   ]
  },
  {
   "cell_type": "code",
   "execution_count": 15,
   "metadata": {},
   "outputs": [
    {
     "name": "stdout",
     "output_type": "stream",
     "text": [
      "              precision    recall  f1-score   support\n",
      "\n",
      "           0       0.75      0.91      0.82       100\n",
      "           1       0.73      0.44      0.55        54\n",
      "\n",
      "    accuracy                           0.75       154\n",
      "   macro avg       0.74      0.68      0.69       154\n",
      "weighted avg       0.74      0.75      0.73       154\n",
      "\n",
      "0.7467532467532467\n",
      "[[91  9]\n",
      " [30 24]]\n"
     ]
    }
   ],
   "source": [
    "print(classification_report(y_test, rf_man_predict))\n",
    "print(accuracy_score(y_test, rf_man_predict))\n",
    "print(confusion_matrix(y_test, rf_man_predict))"
   ]
  },
  {
   "cell_type": "markdown",
   "metadata": {},
   "source": [
    "###  Randomized Search CV"
   ]
  },
  {
   "cell_type": "markdown",
   "metadata": {},
   "source": [
    "###  <font color='red'>Randomized search cv will pick the hyperparameters randomly and apply the algo. and whichever gives the best result among the randomly taken hyperparameters those will be best parameters for that model</font>"
   ]
  },
  {
   "cell_type": "code",
   "execution_count": 16,
   "metadata": {},
   "outputs": [
    {
     "name": "stdout",
     "output_type": "stream",
     "text": [
      "{'n_estimators': [200, 400, 600, 800, 1000, 1200, 1400, 1600, 1800, 2000], 'max_features': ['auto', 'sqrt', 'log2'], 'max_depth': [10, 120, 230, 340, 450, 560, 670, 780, 890, 1000], 'min_samples_split': [2, 5, 10, 14], 'min_samples_leaf': [1, 2, 4, 6, 8], 'criterion': ['entropy', 'gini']}\n"
     ]
    }
   ],
   "source": [
    "import numpy as np\n",
    "from sklearn.model_selection import RandomizedSearchCV\n",
    "# Number of trees in random forest\n",
    "n_estimators = [int(x) for x in np.linspace(start = 200, stop = 2000, num = 10)]\n",
    "# Number of features to consider at every split\n",
    "max_features = ['auto', 'sqrt','log2']\n",
    "# Maximum number of levels in tree\n",
    "max_depth = [int(x) for x in np.linspace(10, 1000,10)]\n",
    "# Minimum number of samples required to split a node\n",
    "min_samples_split = [2, 5, 10,14]\n",
    "# Minimum number of samples required at each leaf node\n",
    "min_samples_leaf = [1, 2, 4,6,8]\n",
    "# Create the random grid\n",
    "random_grid = {'n_estimators': n_estimators,\n",
    "               'max_features': max_features,\n",
    "               'max_depth': max_depth,\n",
    "               'min_samples_split': min_samples_split,\n",
    "               'min_samples_leaf': min_samples_leaf,\n",
    "              'criterion':['entropy','gini']}\n",
    "print(random_grid)"
   ]
  },
  {
   "cell_type": "code",
   "execution_count": 17,
   "metadata": {},
   "outputs": [],
   "source": [
    "rf_clf = RandomForestClassifier()\n",
    "rf_randomcv = RandomizedSearchCV(estimator=rf_clf, param_distributions=random_grid, n_iter = 100,cv=4,random_state=100,n_jobs=-1)"
   ]
  },
  {
   "cell_type": "code",
   "execution_count": 18,
   "metadata": {},
   "outputs": [
    {
     "ename": "KeyboardInterrupt",
     "evalue": "",
     "output_type": "error",
     "traceback": [
      "\u001b[1;31m---------------------------------------------------------------------------\u001b[0m",
      "\u001b[1;31mKeyboardInterrupt\u001b[0m                         Traceback (most recent call last)",
      "\u001b[1;32m<ipython-input-18-76ccd77507ec>\u001b[0m in \u001b[0;36m<module>\u001b[1;34m\u001b[0m\n\u001b[1;32m----> 1\u001b[1;33m \u001b[0mrf_randomcv\u001b[0m\u001b[1;33m.\u001b[0m\u001b[0mfit\u001b[0m\u001b[1;33m(\u001b[0m\u001b[0mX_train\u001b[0m\u001b[1;33m,\u001b[0m \u001b[0my_train\u001b[0m\u001b[1;33m)\u001b[0m\u001b[1;33m\u001b[0m\u001b[1;33m\u001b[0m\u001b[0m\n\u001b[0m",
      "\u001b[1;32m~\\anaconda3\\lib\\site-packages\\sklearn\\utils\\validation.py\u001b[0m in \u001b[0;36minner_f\u001b[1;34m(*args, **kwargs)\u001b[0m\n\u001b[0;32m     61\u001b[0m             \u001b[0mextra_args\u001b[0m \u001b[1;33m=\u001b[0m \u001b[0mlen\u001b[0m\u001b[1;33m(\u001b[0m\u001b[0margs\u001b[0m\u001b[1;33m)\u001b[0m \u001b[1;33m-\u001b[0m \u001b[0mlen\u001b[0m\u001b[1;33m(\u001b[0m\u001b[0mall_args\u001b[0m\u001b[1;33m)\u001b[0m\u001b[1;33m\u001b[0m\u001b[1;33m\u001b[0m\u001b[0m\n\u001b[0;32m     62\u001b[0m             \u001b[1;32mif\u001b[0m \u001b[0mextra_args\u001b[0m \u001b[1;33m<=\u001b[0m \u001b[1;36m0\u001b[0m\u001b[1;33m:\u001b[0m\u001b[1;33m\u001b[0m\u001b[1;33m\u001b[0m\u001b[0m\n\u001b[1;32m---> 63\u001b[1;33m                 \u001b[1;32mreturn\u001b[0m \u001b[0mf\u001b[0m\u001b[1;33m(\u001b[0m\u001b[1;33m*\u001b[0m\u001b[0margs\u001b[0m\u001b[1;33m,\u001b[0m \u001b[1;33m**\u001b[0m\u001b[0mkwargs\u001b[0m\u001b[1;33m)\u001b[0m\u001b[1;33m\u001b[0m\u001b[1;33m\u001b[0m\u001b[0m\n\u001b[0m\u001b[0;32m     64\u001b[0m \u001b[1;33m\u001b[0m\u001b[0m\n\u001b[0;32m     65\u001b[0m             \u001b[1;31m# extra_args > 0\u001b[0m\u001b[1;33m\u001b[0m\u001b[1;33m\u001b[0m\u001b[1;33m\u001b[0m\u001b[0m\n",
      "\u001b[1;32m~\\anaconda3\\lib\\site-packages\\sklearn\\model_selection\\_search.py\u001b[0m in \u001b[0;36mfit\u001b[1;34m(self, X, y, groups, **fit_params)\u001b[0m\n\u001b[0;32m    839\u001b[0m                 \u001b[1;32mreturn\u001b[0m \u001b[0mresults\u001b[0m\u001b[1;33m\u001b[0m\u001b[1;33m\u001b[0m\u001b[0m\n\u001b[0;32m    840\u001b[0m \u001b[1;33m\u001b[0m\u001b[0m\n\u001b[1;32m--> 841\u001b[1;33m             \u001b[0mself\u001b[0m\u001b[1;33m.\u001b[0m\u001b[0m_run_search\u001b[0m\u001b[1;33m(\u001b[0m\u001b[0mevaluate_candidates\u001b[0m\u001b[1;33m)\u001b[0m\u001b[1;33m\u001b[0m\u001b[1;33m\u001b[0m\u001b[0m\n\u001b[0m\u001b[0;32m    842\u001b[0m \u001b[1;33m\u001b[0m\u001b[0m\n\u001b[0;32m    843\u001b[0m             \u001b[1;31m# multimetric is determined here because in the case of a callable\u001b[0m\u001b[1;33m\u001b[0m\u001b[1;33m\u001b[0m\u001b[1;33m\u001b[0m\u001b[0m\n",
      "\u001b[1;32m~\\anaconda3\\lib\\site-packages\\sklearn\\model_selection\\_search.py\u001b[0m in \u001b[0;36m_run_search\u001b[1;34m(self, evaluate_candidates)\u001b[0m\n\u001b[0;32m   1631\u001b[0m     \u001b[1;32mdef\u001b[0m \u001b[0m_run_search\u001b[0m\u001b[1;33m(\u001b[0m\u001b[0mself\u001b[0m\u001b[1;33m,\u001b[0m \u001b[0mevaluate_candidates\u001b[0m\u001b[1;33m)\u001b[0m\u001b[1;33m:\u001b[0m\u001b[1;33m\u001b[0m\u001b[1;33m\u001b[0m\u001b[0m\n\u001b[0;32m   1632\u001b[0m         \u001b[1;34m\"\"\"Search n_iter candidates from param_distributions\"\"\"\u001b[0m\u001b[1;33m\u001b[0m\u001b[1;33m\u001b[0m\u001b[0m\n\u001b[1;32m-> 1633\u001b[1;33m         evaluate_candidates(ParameterSampler(\n\u001b[0m\u001b[0;32m   1634\u001b[0m             \u001b[0mself\u001b[0m\u001b[1;33m.\u001b[0m\u001b[0mparam_distributions\u001b[0m\u001b[1;33m,\u001b[0m \u001b[0mself\u001b[0m\u001b[1;33m.\u001b[0m\u001b[0mn_iter\u001b[0m\u001b[1;33m,\u001b[0m\u001b[1;33m\u001b[0m\u001b[1;33m\u001b[0m\u001b[0m\n\u001b[0;32m   1635\u001b[0m             random_state=self.random_state))\n",
      "\u001b[1;32m~\\anaconda3\\lib\\site-packages\\sklearn\\model_selection\\_search.py\u001b[0m in \u001b[0;36mevaluate_candidates\u001b[1;34m(candidate_params, cv, more_results)\u001b[0m\n\u001b[0;32m    793\u001b[0m                               n_splits, n_candidates, n_candidates * n_splits))\n\u001b[0;32m    794\u001b[0m \u001b[1;33m\u001b[0m\u001b[0m\n\u001b[1;32m--> 795\u001b[1;33m                 out = parallel(delayed(_fit_and_score)(clone(base_estimator),\n\u001b[0m\u001b[0;32m    796\u001b[0m                                                        \u001b[0mX\u001b[0m\u001b[1;33m,\u001b[0m \u001b[0my\u001b[0m\u001b[1;33m,\u001b[0m\u001b[1;33m\u001b[0m\u001b[1;33m\u001b[0m\u001b[0m\n\u001b[0;32m    797\u001b[0m                                                        \u001b[0mtrain\u001b[0m\u001b[1;33m=\u001b[0m\u001b[0mtrain\u001b[0m\u001b[1;33m,\u001b[0m \u001b[0mtest\u001b[0m\u001b[1;33m=\u001b[0m\u001b[0mtest\u001b[0m\u001b[1;33m,\u001b[0m\u001b[1;33m\u001b[0m\u001b[1;33m\u001b[0m\u001b[0m\n",
      "\u001b[1;32m~\\anaconda3\\lib\\site-packages\\joblib\\parallel.py\u001b[0m in \u001b[0;36m__call__\u001b[1;34m(self, iterable)\u001b[0m\n\u001b[0;32m   1059\u001b[0m \u001b[1;33m\u001b[0m\u001b[0m\n\u001b[0;32m   1060\u001b[0m             \u001b[1;32mwith\u001b[0m \u001b[0mself\u001b[0m\u001b[1;33m.\u001b[0m\u001b[0m_backend\u001b[0m\u001b[1;33m.\u001b[0m\u001b[0mretrieval_context\u001b[0m\u001b[1;33m(\u001b[0m\u001b[1;33m)\u001b[0m\u001b[1;33m:\u001b[0m\u001b[1;33m\u001b[0m\u001b[1;33m\u001b[0m\u001b[0m\n\u001b[1;32m-> 1061\u001b[1;33m                 \u001b[0mself\u001b[0m\u001b[1;33m.\u001b[0m\u001b[0mretrieve\u001b[0m\u001b[1;33m(\u001b[0m\u001b[1;33m)\u001b[0m\u001b[1;33m\u001b[0m\u001b[1;33m\u001b[0m\u001b[0m\n\u001b[0m\u001b[0;32m   1062\u001b[0m             \u001b[1;31m# Make sure that we get a last message telling us we are done\u001b[0m\u001b[1;33m\u001b[0m\u001b[1;33m\u001b[0m\u001b[1;33m\u001b[0m\u001b[0m\n\u001b[0;32m   1063\u001b[0m             \u001b[0melapsed_time\u001b[0m \u001b[1;33m=\u001b[0m \u001b[0mtime\u001b[0m\u001b[1;33m.\u001b[0m\u001b[0mtime\u001b[0m\u001b[1;33m(\u001b[0m\u001b[1;33m)\u001b[0m \u001b[1;33m-\u001b[0m \u001b[0mself\u001b[0m\u001b[1;33m.\u001b[0m\u001b[0m_start_time\u001b[0m\u001b[1;33m\u001b[0m\u001b[1;33m\u001b[0m\u001b[0m\n",
      "\u001b[1;32m~\\anaconda3\\lib\\site-packages\\joblib\\parallel.py\u001b[0m in \u001b[0;36mretrieve\u001b[1;34m(self)\u001b[0m\n\u001b[0;32m    938\u001b[0m             \u001b[1;32mtry\u001b[0m\u001b[1;33m:\u001b[0m\u001b[1;33m\u001b[0m\u001b[1;33m\u001b[0m\u001b[0m\n\u001b[0;32m    939\u001b[0m                 \u001b[1;32mif\u001b[0m \u001b[0mgetattr\u001b[0m\u001b[1;33m(\u001b[0m\u001b[0mself\u001b[0m\u001b[1;33m.\u001b[0m\u001b[0m_backend\u001b[0m\u001b[1;33m,\u001b[0m \u001b[1;34m'supports_timeout'\u001b[0m\u001b[1;33m,\u001b[0m \u001b[1;32mFalse\u001b[0m\u001b[1;33m)\u001b[0m\u001b[1;33m:\u001b[0m\u001b[1;33m\u001b[0m\u001b[1;33m\u001b[0m\u001b[0m\n\u001b[1;32m--> 940\u001b[1;33m                     \u001b[0mself\u001b[0m\u001b[1;33m.\u001b[0m\u001b[0m_output\u001b[0m\u001b[1;33m.\u001b[0m\u001b[0mextend\u001b[0m\u001b[1;33m(\u001b[0m\u001b[0mjob\u001b[0m\u001b[1;33m.\u001b[0m\u001b[0mget\u001b[0m\u001b[1;33m(\u001b[0m\u001b[0mtimeout\u001b[0m\u001b[1;33m=\u001b[0m\u001b[0mself\u001b[0m\u001b[1;33m.\u001b[0m\u001b[0mtimeout\u001b[0m\u001b[1;33m)\u001b[0m\u001b[1;33m)\u001b[0m\u001b[1;33m\u001b[0m\u001b[1;33m\u001b[0m\u001b[0m\n\u001b[0m\u001b[0;32m    941\u001b[0m                 \u001b[1;32melse\u001b[0m\u001b[1;33m:\u001b[0m\u001b[1;33m\u001b[0m\u001b[1;33m\u001b[0m\u001b[0m\n\u001b[0;32m    942\u001b[0m                     \u001b[0mself\u001b[0m\u001b[1;33m.\u001b[0m\u001b[0m_output\u001b[0m\u001b[1;33m.\u001b[0m\u001b[0mextend\u001b[0m\u001b[1;33m(\u001b[0m\u001b[0mjob\u001b[0m\u001b[1;33m.\u001b[0m\u001b[0mget\u001b[0m\u001b[1;33m(\u001b[0m\u001b[1;33m)\u001b[0m\u001b[1;33m)\u001b[0m\u001b[1;33m\u001b[0m\u001b[1;33m\u001b[0m\u001b[0m\n",
      "\u001b[1;32m~\\anaconda3\\lib\\site-packages\\joblib\\_parallel_backends.py\u001b[0m in \u001b[0;36mwrap_future_result\u001b[1;34m(future, timeout)\u001b[0m\n\u001b[0;32m    540\u001b[0m         AsyncResults.get from multiprocessing.\"\"\"\n\u001b[0;32m    541\u001b[0m         \u001b[1;32mtry\u001b[0m\u001b[1;33m:\u001b[0m\u001b[1;33m\u001b[0m\u001b[1;33m\u001b[0m\u001b[0m\n\u001b[1;32m--> 542\u001b[1;33m             \u001b[1;32mreturn\u001b[0m \u001b[0mfuture\u001b[0m\u001b[1;33m.\u001b[0m\u001b[0mresult\u001b[0m\u001b[1;33m(\u001b[0m\u001b[0mtimeout\u001b[0m\u001b[1;33m=\u001b[0m\u001b[0mtimeout\u001b[0m\u001b[1;33m)\u001b[0m\u001b[1;33m\u001b[0m\u001b[1;33m\u001b[0m\u001b[0m\n\u001b[0m\u001b[0;32m    543\u001b[0m         \u001b[1;32mexcept\u001b[0m \u001b[0mCfTimeoutError\u001b[0m \u001b[1;32mas\u001b[0m \u001b[0me\u001b[0m\u001b[1;33m:\u001b[0m\u001b[1;33m\u001b[0m\u001b[1;33m\u001b[0m\u001b[0m\n\u001b[0;32m    544\u001b[0m             \u001b[1;32mraise\u001b[0m \u001b[0mTimeoutError\u001b[0m \u001b[1;32mfrom\u001b[0m \u001b[0me\u001b[0m\u001b[1;33m\u001b[0m\u001b[1;33m\u001b[0m\u001b[0m\n",
      "\u001b[1;32m~\\anaconda3\\lib\\concurrent\\futures\\_base.py\u001b[0m in \u001b[0;36mresult\u001b[1;34m(self, timeout)\u001b[0m\n\u001b[0;32m    432\u001b[0m                 \u001b[1;32mreturn\u001b[0m \u001b[0mself\u001b[0m\u001b[1;33m.\u001b[0m\u001b[0m__get_result\u001b[0m\u001b[1;33m(\u001b[0m\u001b[1;33m)\u001b[0m\u001b[1;33m\u001b[0m\u001b[1;33m\u001b[0m\u001b[0m\n\u001b[0;32m    433\u001b[0m \u001b[1;33m\u001b[0m\u001b[0m\n\u001b[1;32m--> 434\u001b[1;33m             \u001b[0mself\u001b[0m\u001b[1;33m.\u001b[0m\u001b[0m_condition\u001b[0m\u001b[1;33m.\u001b[0m\u001b[0mwait\u001b[0m\u001b[1;33m(\u001b[0m\u001b[0mtimeout\u001b[0m\u001b[1;33m)\u001b[0m\u001b[1;33m\u001b[0m\u001b[1;33m\u001b[0m\u001b[0m\n\u001b[0m\u001b[0;32m    435\u001b[0m \u001b[1;33m\u001b[0m\u001b[0m\n\u001b[0;32m    436\u001b[0m             \u001b[1;32mif\u001b[0m \u001b[0mself\u001b[0m\u001b[1;33m.\u001b[0m\u001b[0m_state\u001b[0m \u001b[1;32min\u001b[0m \u001b[1;33m[\u001b[0m\u001b[0mCANCELLED\u001b[0m\u001b[1;33m,\u001b[0m \u001b[0mCANCELLED_AND_NOTIFIED\u001b[0m\u001b[1;33m]\u001b[0m\u001b[1;33m:\u001b[0m\u001b[1;33m\u001b[0m\u001b[1;33m\u001b[0m\u001b[0m\n",
      "\u001b[1;32m~\\anaconda3\\lib\\threading.py\u001b[0m in \u001b[0;36mwait\u001b[1;34m(self, timeout)\u001b[0m\n\u001b[0;32m    300\u001b[0m         \u001b[1;32mtry\u001b[0m\u001b[1;33m:\u001b[0m    \u001b[1;31m# restore state no matter what (e.g., KeyboardInterrupt)\u001b[0m\u001b[1;33m\u001b[0m\u001b[1;33m\u001b[0m\u001b[0m\n\u001b[0;32m    301\u001b[0m             \u001b[1;32mif\u001b[0m \u001b[0mtimeout\u001b[0m \u001b[1;32mis\u001b[0m \u001b[1;32mNone\u001b[0m\u001b[1;33m:\u001b[0m\u001b[1;33m\u001b[0m\u001b[1;33m\u001b[0m\u001b[0m\n\u001b[1;32m--> 302\u001b[1;33m                 \u001b[0mwaiter\u001b[0m\u001b[1;33m.\u001b[0m\u001b[0macquire\u001b[0m\u001b[1;33m(\u001b[0m\u001b[1;33m)\u001b[0m\u001b[1;33m\u001b[0m\u001b[1;33m\u001b[0m\u001b[0m\n\u001b[0m\u001b[0;32m    303\u001b[0m                 \u001b[0mgotit\u001b[0m \u001b[1;33m=\u001b[0m \u001b[1;32mTrue\u001b[0m\u001b[1;33m\u001b[0m\u001b[1;33m\u001b[0m\u001b[0m\n\u001b[0;32m    304\u001b[0m             \u001b[1;32melse\u001b[0m\u001b[1;33m:\u001b[0m\u001b[1;33m\u001b[0m\u001b[1;33m\u001b[0m\u001b[0m\n",
      "\u001b[1;31mKeyboardInterrupt\u001b[0m: "
     ]
    }
   ],
   "source": [
    "rf_randomcv.fit(X_train, y_train)"
   ]
  },
  {
   "cell_type": "code",
   "execution_count": null,
   "metadata": {},
   "outputs": [],
   "source": [
    "rf_randomcv.best_params_"
   ]
  },
  {
   "cell_type": "code",
   "execution_count": null,
   "metadata": {},
   "outputs": [],
   "source": [
    "rf_randomcv.best_estimator_"
   ]
  },
  {
   "cell_type": "code",
   "execution_count": null,
   "metadata": {},
   "outputs": [],
   "source": [
    "best_randomcv = rf_randomcv.best_estimator_"
   ]
  },
  {
   "cell_type": "code",
   "execution_count": null,
   "metadata": {},
   "outputs": [],
   "source": [
    "y_pred=best_randomcv.predict(X_test)"
   ]
  },
  {
   "cell_type": "code",
   "execution_count": null,
   "metadata": {},
   "outputs": [],
   "source": [
    "print(classification_report(y_test, y_pred))\n",
    "print(accuracy_score(y_test, y_pred))\n",
    "print(confusion_matrix(y_test, y_pred))"
   ]
  },
  {
   "cell_type": "markdown",
   "metadata": {},
   "source": [
    "###  Grid Search CV"
   ]
  },
  {
   "cell_type": "markdown",
   "metadata": {},
   "source": [
    "###  <font color='red'>In Gridsearch cv , set of combinations of hyperparameters are applied on the algoand whichever performs best it will treat those hyperparameters as best .</font>"
   ]
  },
  {
   "cell_type": "code",
   "execution_count": null,
   "metadata": {},
   "outputs": [],
   "source": [
    "from sklearn.model_selection import GridSearchCV\n",
    "\n",
    "param_grid = {\n",
    "    'criterion': [rf_randomcv.best_params_['criterion']],\n",
    "    'max_depth': [rf_randomcv.best_params_['max_depth']],\n",
    "    'max_features': [rf_randomcv.best_params_['max_features']],\n",
    "    'min_samples_leaf': [rf_randomcv.best_params_['min_samples_leaf'], \n",
    "                         rf_randomcv.best_params_['min_samples_leaf']+2, \n",
    "                         rf_randomcv.best_params_['min_samples_leaf'] + 4],\n",
    "    'min_samples_split': [rf_randomcv.best_params_['min_samples_split'] - 2,\n",
    "                          rf_randomcv.best_params_['min_samples_split'] - 1,\n",
    "                          rf_randomcv.best_params_['min_samples_split'], \n",
    "                          rf_randomcv.best_params_['min_samples_split'] +1,\n",
    "                          rf_randomcv.best_params_['min_samples_split'] + 2],\n",
    "    'n_estimators': [rf_randomcv.best_params_['n_estimators'] - 200, rf_randomcv.best_params_['n_estimators'] - 100, \n",
    "                     rf_randomcv.best_params_['n_estimators'], \n",
    "                     rf_randomcv.best_params_['n_estimators'] + 100, rf_randomcv.best_params_['n_estimators'] + 200]\n",
    "}\n",
    "\n",
    "print(param_grid)"
   ]
  },
  {
   "cell_type": "code",
   "execution_count": null,
   "metadata": {},
   "outputs": [],
   "source": [
    "rf = RandomForestClassifier()\n",
    "rf_Gridcv = GridSearchCV(estimator=rf, param_grid=param_grid, n_jobs=-1,cv = 10)"
   ]
  },
  {
   "cell_type": "code",
   "execution_count": null,
   "metadata": {},
   "outputs": [],
   "source": [
    "rf_Gridcv.fit(X_train, y_train)"
   ]
  },
  {
   "cell_type": "code",
   "execution_count": null,
   "metadata": {},
   "outputs": [],
   "source": [
    "best_grid = rf_Gridcv.best_estimator_"
   ]
  },
  {
   "cell_type": "code",
   "execution_count": null,
   "metadata": {},
   "outputs": [],
   "source": [
    "grid_y_pred = best_grid.predict(X_test)"
   ]
  },
  {
   "cell_type": "code",
   "execution_count": null,
   "metadata": {},
   "outputs": [],
   "source": [
    "print(classification_report(y_test, grid_y_pred))\n",
    "print(accuracy_score(y_test, grid_y_pred))\n",
    "print(confusion_matrix(y_test, grid_y_pred))"
   ]
  },
  {
   "cell_type": "markdown",
   "metadata": {},
   "source": [
    "###  Automated hyperparameter technique"
   ]
  },
  {
   "cell_type": "markdown",
   "metadata": {},
   "source": [
    "\n",
    "Automated Hyperparameter Tuning can be done by using techniques such as\n",
    "\n",
    "- a) Bayesian Optimization\n",
    "- b) Gradient Descent\n",
    "- c) Evolutionary Algorithms\n",
    "\n",
    "#### a) Bayesian Optimization\n",
    "Bayesian optimization uses probability to find the minimum of a function. The final aim is to find the input value to a function which can gives us the lowest possible output value.It usually performs better than random,grid and manual search providing better performance in the testing phase and reduced optimization time. In Hyperopt, Bayesian Optimization can be implemented giving 3 three main parameters to the function fmin.\n",
    "\n",
    "- Domain Space = defines the range of input values to test (in Bayesian Optimization this space creates a probability distribution for each of the used Hyperparameters).\n",
    "- Objective Function = defines the loss function to minimize.\n",
    "- Optimization Algorithm = defines the search algorithm to use to select the best input values to use in each new iteration."
   ]
  },
  {
   "cell_type": "code",
   "execution_count": 24,
   "metadata": {},
   "outputs": [],
   "source": [
    "from hyperopt import hp, fmin, tpe, STATUS_OK, Trials\n",
    "from sklearn.model_selection import cross_val_score"
   ]
  },
  {
   "cell_type": "code",
   "execution_count": 21,
   "metadata": {},
   "outputs": [],
   "source": [
    "# step-1 : defining domain space\n",
    "space = {\n",
    "         'criterion':         hp.choice('criterion',['entropy','gini']),\n",
    "         'n_estimators':      hp.choice('n_estimators',[200, 400, 600, 800, 1000]), \n",
    "         'max_features':      hp.choice('max_features',['auto', 'sqrt', 'log2',None]),\n",
    "         'max_depth':         hp.quniform('max_depth', 10,1200,10), \n",
    "         'min_samples_split': hp.uniform('min_samples_split',0,1),\n",
    "         'min_samples_leaf':  hp.uniform('min_samples_leaf',0,0.5)\n",
    "}"
   ]
  },
  {
   "cell_type": "code",
   "execution_count": 22,
   "metadata": {},
   "outputs": [
    {
     "data": {
      "text/plain": [
       "{'criterion': <hyperopt.pyll.base.Apply at 0x12577a5bdc0>,\n",
       " 'n_estimators': <hyperopt.pyll.base.Apply at 0x12577a5b8b0>,\n",
       " 'max_features': <hyperopt.pyll.base.Apply at 0x12577a5bc10>,\n",
       " 'max_depth': <hyperopt.pyll.base.Apply at 0x12577a5b880>,\n",
       " 'min_samples_split': <hyperopt.pyll.base.Apply at 0x12577a5b790>,\n",
       " 'min_samples_leaf': <hyperopt.pyll.base.Apply at 0x12577a184f0>}"
      ]
     },
     "execution_count": 22,
     "metadata": {},
     "output_type": "execute_result"
    }
   ],
   "source": [
    "space"
   ]
  },
  {
   "cell_type": "code",
   "execution_count": 23,
   "metadata": {},
   "outputs": [
    {
     "name": "stdout",
     "output_type": "stream",
     "text": [
      "0 switch\n",
      "1   hyperopt_param\n",
      "2     Literal{criterion}\n",
      "3     randint\n",
      "4       Literal{2}\n",
      "5   Literal{entropy}\n",
      "6   Literal{gini}\n"
     ]
    }
   ],
   "source": [
    "print(space['criterion'])"
   ]
  },
  {
   "cell_type": "code",
   "execution_count": 25,
   "metadata": {},
   "outputs": [],
   "source": [
    "#step-2 : define objective function\n",
    "def objective(space):\n",
    "    model = RandomForestClassifier(criterion=space['criterion'],max_depth=space['max_depth'],\n",
    "                           max_features=space['max_features'],\n",
    "                           min_samples_split=space['min_samples_split'],\n",
    "                           min_samples_leaf= space['min_samples_leaf'],\n",
    "                           n_estimators = space['n_estimators']\n",
    "                          )\n",
    "    accuracy = cross_val_score(model,X_train,y_train,cv=5).mean()  # cross_val_sore returns Array of scores of the estimator for each run of the cross validation.\n",
    "    \n",
    "    return{'loss':-accuracy,'status':STATUS_OK}"
   ]
  },
  {
   "cell_type": "code",
   "execution_count": 27,
   "metadata": {},
   "outputs": [
    {
     "name": "stdout",
     "output_type": "stream",
     "text": [
      "100%|███████████████████████████████████████████████| 70/70 [10:02<00:00,  8.61s/trial, best loss: -0.7817672930827669]\n"
     ]
    }
   ],
   "source": [
    "# step-3 : define optimization algorithm\n",
    "\n",
    "# trials is responsible for minimizing the function\n",
    "trials = Trials()\n",
    "# fmin Minimizes a function over a hyperparameter space.\n",
    "best = fmin(fn=objective,\n",
    "            space=space,\n",
    "            algo=tpe.suggest,\n",
    "            max_evals=70,\n",
    "            trials=trials)"
   ]
  },
  {
   "cell_type": "code",
   "execution_count": 28,
   "metadata": {},
   "outputs": [
    {
     "data": {
      "text/plain": [
       "{'criterion': 1,\n",
       " 'max_depth': 780.0,\n",
       " 'max_features': 2,\n",
       " 'min_samples_leaf': 0.001993421747630005,\n",
       " 'min_samples_split': 0.2988911495649224,\n",
       " 'n_estimators': 0}"
      ]
     },
     "execution_count": 28,
     "metadata": {},
     "output_type": "execute_result"
    }
   ],
   "source": [
    "best"
   ]
  },
  {
   "cell_type": "code",
   "execution_count": 29,
   "metadata": {},
   "outputs": [],
   "source": [
    "crit = {0:'entropy', 1:'gini'}\n",
    "feat = {0:'auto',1:'sqrt', 2:'log2',3:'None'}\n",
    "est  = {0:200, 1:400, 2:600, 3:800, 4:1000}"
   ]
  },
  {
   "cell_type": "code",
   "execution_count": 30,
   "metadata": {},
   "outputs": [
    {
     "name": "stdout",
     "output_type": "stream",
     "text": [
      "gini\n",
      "log2\n",
      "200\n"
     ]
    }
   ],
   "source": [
    "print(crit[best['criterion']])\n",
    "print(feat[best['max_features']])\n",
    "print(est[best['n_estimators']])"
   ]
  },
  {
   "cell_type": "code",
   "execution_count": 34,
   "metadata": {},
   "outputs": [],
   "source": [
    "# again we are training our model with best hyperparametrs that we got by hyperopt\n",
    "trained_hyperopt_model = RandomForestClassifier(n_estimators=est[best['n_estimators']],max_features=feat[best['max_features']],criterion=crit[best['criterion']],max_depth=best['max_depth'],min_samples_leaf=best['min_samples_leaf'],min_samples_split=best['min_samples_split']).fit(X_train,y_train)\n",
    "hyperopt_predict = trained_hyperopt_model.predict(X_test)"
   ]
  },
  {
   "cell_type": "code",
   "execution_count": 36,
   "metadata": {},
   "outputs": [
    {
     "name": "stdout",
     "output_type": "stream",
     "text": [
      "              precision    recall  f1-score   support\n",
      "\n",
      "           0       0.73      0.93      0.82       100\n",
      "           1       0.74      0.37      0.49        54\n",
      "\n",
      "    accuracy                           0.73       154\n",
      "   macro avg       0.74      0.65      0.66       154\n",
      "weighted avg       0.74      0.73      0.71       154\n",
      "\n",
      "0.7337662337662337\n",
      "[[93  7]\n",
      " [34 20]]\n"
     ]
    }
   ],
   "source": [
    "print(classification_report(y_test,hyperopt_predict))\n",
    "print(accuracy_score(y_test,hyperopt_predict))\n",
    "print(confusion_matrix(y_test,hyperopt_predict))"
   ]
  },
  {
   "cell_type": "markdown",
   "metadata": {},
   "source": [
    "\n",
    "### Genetic Algorithms\n",
    "Genetic Algorithms tries to apply natural selection mechanisms to Machine Learning contexts.\n",
    "\n",
    "Let's imagine we create a population of N Machine Learning models with some predifined Hyperparameters. We can then calculate the accuracy of each model and decide to keep just half of the models (the ones that performs best). We can now generate some offsprings having similar Hyperparameters to the ones of the best models so that go get again a population of N models. At this point we can again caltulate the accuracy of each model and repeate the cycle for a defined number of generations. In this way, just the best models will survive at the end of the process."
   ]
  },
  {
   "cell_type": "code",
   "execution_count": 37,
   "metadata": {},
   "outputs": [
    {
     "name": "stdout",
     "output_type": "stream",
     "text": [
      "{'n_estimators': [200, 400, 600, 800, 1000, 1200, 1400, 1600, 1800, 2000], 'max_features': ['auto', 'sqrt', 'log2'], 'max_depth': [10, 120, 230, 340, 450, 560, 670, 780, 890, 1000], 'min_samples_split': [2, 5, 10, 14], 'min_samples_leaf': [1, 2, 4, 6, 8], 'criterion': ['entropy', 'gini']}\n"
     ]
    }
   ],
   "source": [
    "import numpy as np\n",
    "from sklearn.model_selection import RandomizedSearchCV\n",
    "# Number of trees in random forest\n",
    "n_estimators = [int(x) for x in np.linspace(start = 200, stop = 2000, num = 10)]\n",
    "# Number of features to consider at every split\n",
    "max_features = ['auto', 'sqrt','log2']\n",
    "# Maximum number of levels in tree\n",
    "max_depth = [int(x) for x in np.linspace(10, 1000,10)]\n",
    "# Minimum number of samples required to split a node\n",
    "min_samples_split = [2, 5, 10,14]\n",
    "# Minimum number of samples required at each leaf node\n",
    "min_samples_leaf = [1, 2, 4,6,8]\n",
    "# Create the random grid\n",
    "random_grid = {'n_estimators': n_estimators,\n",
    "               'max_features': max_features,\n",
    "               'max_depth': max_depth,\n",
    "               'min_samples_split': min_samples_split,\n",
    "               'min_samples_leaf': min_samples_leaf,\n",
    "              'criterion':['entropy','gini']}\n",
    "print(random_grid)"
   ]
  },
  {
   "cell_type": "code",
   "execution_count": 40,
   "metadata": {},
   "outputs": [],
   "source": [
    "from tpot import TPOTClassifier\n",
    "# Set up the genetic programming algorithm for pipeline optimization.\n",
    "tpot_model = TPOTClassifier(generations=4,population_size=20,offspring_size=10,n_jobs=-1,early_stop=10,verbosity=1,config_dict={'sklearn.ensemble.RandomForestClassifier':random_grid},cv=4,scoring='accuracy')"
   ]
  },
  {
   "cell_type": "code",
   "execution_count": 41,
   "metadata": {},
   "outputs": [
    {
     "name": "stdout",
     "output_type": "stream",
     "text": [
      "Best pipeline: RandomForestClassifier(CombineDFs(CombineDFs(input_matrix, input_matrix), RandomForestClassifier(input_matrix, criterion=gini, max_depth=450, max_features=auto, min_samples_leaf=2, min_samples_split=14, n_estimators=1200)), criterion=gini, max_depth=890, max_features=auto, min_samples_leaf=6, min_samples_split=10, n_estimators=1800)\n"
     ]
    },
    {
     "data": {
      "text/plain": [
       "TPOTClassifier(config_dict={'sklearn.ensemble.RandomForestClassifier': {'criterion': ['entropy',\n",
       "                                                                                      'gini'],\n",
       "                                                                        'max_depth': [10,\n",
       "                                                                                      120,\n",
       "                                                                                      230,\n",
       "                                                                                      340,\n",
       "                                                                                      450,\n",
       "                                                                                      560,\n",
       "                                                                                      670,\n",
       "                                                                                      780,\n",
       "                                                                                      890,\n",
       "                                                                                      1000],\n",
       "                                                                        'max_features': ['auto',\n",
       "                                                                                         'sqrt',\n",
       "                                                                                         'log2'],\n",
       "                                                                        'min_samples_leaf': [1,\n",
       "                                                                                             2,\n",
       "                                                                                             4,\n",
       "                                                                                             6,\n",
       "                                                                                             8],\n",
       "                                                                        'min_samples_split': [2,\n",
       "                                                                                              5,\n",
       "                                                                                              10,\n",
       "                                                                                              14],\n",
       "                                                                        'n_estimators': [200,\n",
       "                                                                                         400,\n",
       "                                                                                         600,\n",
       "                                                                                         800,\n",
       "                                                                                         1000,\n",
       "                                                                                         1200,\n",
       "                                                                                         1400,\n",
       "                                                                                         1600,\n",
       "                                                                                         1800,\n",
       "                                                                                         2000]}},\n",
       "               cv=4, early_stop=10, generations=4, n_jobs=-1, offspring_size=10,\n",
       "               population_size=20, scoring='accuracy', verbosity=1)"
      ]
     },
     "execution_count": 41,
     "metadata": {},
     "output_type": "execute_result"
    }
   ],
   "source": [
    "tpot_model.fit(X_train,y_train)"
   ]
  },
  {
   "cell_type": "code",
   "execution_count": 42,
   "metadata": {},
   "outputs": [
    {
     "name": "stdout",
     "output_type": "stream",
     "text": [
      "0.7272727272727273\n"
     ]
    }
   ],
   "source": [
    "score_acc = tpot_model.score(X_test,y_test)\n",
    "print(score_acc)"
   ]
  },
  {
   "cell_type": "markdown",
   "metadata": {},
   "source": [
    "\n",
    "### Optimize hyperparameters of the model using Optuna\n",
    "\n",
    "The hyperparameters of the above algorithm are n_estimators and max_depth for which we can try different values to see if the model accuracy can be improved. The objective function is modified to accept a trial object. This trial has several methods for sampling hyperparameters. We create a study to run the hyperparameter optimization and finally read the best hyperparameters."
   ]
  },
  {
   "cell_type": "code",
   "execution_count": 44,
   "metadata": {},
   "outputs": [],
   "source": [
    "# defining the objective function \n",
    "import optuna\n",
    "import sklearn.svm\n",
    "\n",
    "def objective_optuna(trial):\n",
    "    classifier = trial.suggest_categorical('classifier',['RandomForest','SVC'])\n",
    "    if classifier == 'RandomForest':\n",
    "        n_estimators = trial.suggest_int('n_estimators', 200, 2000,10)\n",
    "        max_depth = int(trial.suggest_float('max_depth', 10, 100, log=True))\n",
    "        clf = sklearn.ensemble.RandomForestClassifier(n_estimators=n_estimators, max_depth=max_depth)\n",
    "    else:\n",
    "        c = trial.suggest_float('svc_c', 1e-10, 1e10, log=True)\n",
    "        clf = sklearn.svm.SVC(C=c, gamma='auto')\n",
    "\n",
    "    return sklearn.model_selection.cross_val_score(clf,X_train,y_train, n_jobs=-1, cv=3).mean()"
   ]
  },
  {
   "cell_type": "code",
   "execution_count": 46,
   "metadata": {},
   "outputs": [
    {
     "name": "stderr",
     "output_type": "stream",
     "text": [
      "\u001b[32m[I 2021-09-23 12:41:50,452]\u001b[0m A new study created in memory with name: no-name-a670d638-f352-4fd2-a94c-44026e4cb52d\u001b[0m\n",
      "\u001b[32m[I 2021-09-23 12:41:59,329]\u001b[0m Trial 0 finished with value: 0.7752271640363463 and parameters: {'classifier': 'RandomForest', 'n_estimators': 610, 'max_depth': 56.360337679753684}. Best is trial 0 with value: 0.7752271640363463.\u001b[0m\n",
      "\u001b[32m[I 2021-09-23 12:42:06,318]\u001b[0m Trial 1 finished with value: 0.7687549816674637 and parameters: {'classifier': 'RandomForest', 'n_estimators': 780, 'max_depth': 13.072628618298504}. Best is trial 0 with value: 0.7752271640363463.\u001b[0m\n",
      "\u001b[32m[I 2021-09-23 12:42:06,554]\u001b[0m Trial 2 finished with value: 0.6514666029013232 and parameters: {'classifier': 'SVC', 'svc_c': 235139.7276517323}. Best is trial 0 with value: 0.7752271640363463.\u001b[0m\n",
      "\u001b[32m[I 2021-09-23 12:42:08,741]\u001b[0m Trial 3 finished with value: 0.7638370795472661 and parameters: {'classifier': 'RandomForest', 'n_estimators': 400, 'max_depth': 53.42933663656593}. Best is trial 0 with value: 0.7752271640363463.\u001b[0m\n",
      "\u001b[32m[I 2021-09-23 12:42:14,402]\u001b[0m Trial 4 finished with value: 0.7687470109995217 and parameters: {'classifier': 'RandomForest', 'n_estimators': 1060, 'max_depth': 28.25985401789456}. Best is trial 0 with value: 0.7752271640363463.\u001b[0m\n",
      "\u001b[32m[I 2021-09-23 12:42:23,276]\u001b[0m Trial 5 finished with value: 0.767136936075243 and parameters: {'classifier': 'RandomForest', 'n_estimators': 1670, 'max_depth': 76.05843894496564}. Best is trial 0 with value: 0.7752271640363463.\u001b[0m\n",
      "\u001b[32m[I 2021-09-23 12:42:31,369]\u001b[0m Trial 6 finished with value: 0.7654870078112546 and parameters: {'classifier': 'RandomForest', 'n_estimators': 1490, 'max_depth': 56.54593225820641}. Best is trial 0 with value: 0.7752271640363463.\u001b[0m\n",
      "\u001b[32m[I 2021-09-23 12:42:31,483]\u001b[0m Trial 7 finished with value: 0.6514666029013232 and parameters: {'classifier': 'SVC', 'svc_c': 2.2481839344917546e-10}. Best is trial 0 with value: 0.7752271640363463.\u001b[0m\n",
      "\u001b[32m[I 2021-09-23 12:42:32,710]\u001b[0m Trial 8 finished with value: 0.7671050534034752 and parameters: {'classifier': 'RandomForest', 'n_estimators': 230, 'max_depth': 36.7065168749289}. Best is trial 0 with value: 0.7752271640363463.\u001b[0m\n",
      "\u001b[32m[I 2021-09-23 12:42:40,443]\u001b[0m Trial 9 finished with value: 0.7671209947393591 and parameters: {'classifier': 'RandomForest', 'n_estimators': 1440, 'max_depth': 92.70133594655725}. Best is trial 0 with value: 0.7752271640363463.\u001b[0m\n",
      "\u001b[32m[I 2021-09-23 12:42:40,707]\u001b[0m Trial 10 finished with value: 0.6514666029013232 and parameters: {'classifier': 'SVC', 'svc_c': 5803281438.421693}. Best is trial 0 with value: 0.7752271640363463.\u001b[0m\n",
      "\u001b[32m[I 2021-09-23 12:42:44,876]\u001b[0m Trial 11 finished with value: 0.7703889685955683 and parameters: {'classifier': 'RandomForest', 'n_estimators': 800, 'max_depth': 12.800360040855217}. Best is trial 0 with value: 0.7752271640363463.\u001b[0m\n",
      "\u001b[32m[I 2021-09-23 12:42:48,774]\u001b[0m Trial 12 finished with value: 0.763845050215208 and parameters: {'classifier': 'RandomForest', 'n_estimators': 750, 'max_depth': 10.606879591152538}. Best is trial 0 with value: 0.7752271640363463.\u001b[0m\n",
      "\u001b[32m[I 2021-09-23 12:42:52,267]\u001b[0m Trial 13 finished with value: 0.7703809979276263 and parameters: {'classifier': 'RandomForest', 'n_estimators': 670, 'max_depth': 19.76447907889193}. Best is trial 0 with value: 0.7752271640363463.\u001b[0m\n",
      "\u001b[32m[I 2021-09-23 12:42:52,380]\u001b[0m Trial 14 finished with value: 0.6514666029013232 and parameters: {'classifier': 'SVC', 'svc_c': 3.964300043279751e-06}. Best is trial 0 with value: 0.7752271640363463.\u001b[0m\n",
      "\u001b[32m[I 2021-09-23 12:42:58,415]\u001b[0m Trial 15 finished with value: 0.7671050534034752 and parameters: {'classifier': 'RandomForest', 'n_estimators': 1090, 'max_depth': 20.602414811849457}. Best is trial 0 with value: 0.7752271640363463.\u001b[0m\n",
      "\u001b[32m[I 2021-09-23 12:43:01,297]\u001b[0m Trial 16 finished with value: 0.7687470109995217 and parameters: {'classifier': 'RandomForest', 'n_estimators': 500, 'max_depth': 46.14893688785429}. Best is trial 0 with value: 0.7752271640363463.\u001b[0m\n",
      "\u001b[32m[I 2021-09-23 12:43:06,281]\u001b[0m Trial 17 finished with value: 0.7589909134385461 and parameters: {'classifier': 'RandomForest', 'n_estimators': 910, 'max_depth': 17.901996324808607}. Best is trial 0 with value: 0.7752271640363463.\u001b[0m\n",
      "\u001b[32m[I 2021-09-23 12:43:06,462]\u001b[0m Trial 18 finished with value: 0.6514666029013232 and parameters: {'classifier': 'SVC', 'svc_c': 1.23497086710265}. Best is trial 0 with value: 0.7752271640363463.\u001b[0m\n",
      "\u001b[32m[I 2021-09-23 12:43:09,455]\u001b[0m Trial 19 finished with value: 0.7606009883628247 and parameters: {'classifier': 'RandomForest', 'n_estimators': 540, 'max_depth': 27.314225445649072}. Best is trial 0 with value: 0.7752271640363463.\u001b[0m\n",
      "\u001b[32m[I 2021-09-23 12:43:19,998]\u001b[0m Trial 20 finished with value: 0.7671130240714171 and parameters: {'classifier': 'RandomForest', 'n_estimators': 1940, 'max_depth': 39.24625391459817}. Best is trial 0 with value: 0.7752271640363463.\u001b[0m\n",
      "\u001b[32m[I 2021-09-23 12:43:23,711]\u001b[0m Trial 21 finished with value: 0.7719910728519049 and parameters: {'classifier': 'RandomForest', 'n_estimators': 680, 'max_depth': 16.403841029690543}. Best is trial 0 with value: 0.7752271640363463.\u001b[0m\n",
      "\u001b[32m[I 2021-09-23 12:43:29,449]\u001b[0m Trial 22 finished with value: 0.7720229555236728 and parameters: {'classifier': 'RandomForest', 'n_estimators': 960, 'max_depth': 14.760967703827909}. Best is trial 0 with value: 0.7752271640363463.\u001b[0m\n",
      "\u001b[32m[I 2021-09-23 12:43:36,287]\u001b[0m Trial 23 finished with value: 0.7671209947393591 and parameters: {'classifier': 'RandomForest', 'n_estimators': 1210, 'max_depth': 15.978243466719416}. Best is trial 0 with value: 0.7752271640363463.\u001b[0m\n",
      "\u001b[32m[I 2021-09-23 12:43:41,671]\u001b[0m Trial 24 finished with value: 0.7736250597800095 and parameters: {'classifier': 'RandomForest', 'n_estimators': 960, 'max_depth': 24.60580768522106}. Best is trial 0 with value: 0.7752271640363463.\u001b[0m\n",
      "\u001b[32m[I 2021-09-23 12:43:48,693]\u001b[0m Trial 25 finished with value: 0.7654870078112546 and parameters: {'classifier': 'RandomForest', 'n_estimators': 1270, 'max_depth': 25.04048833131728}. Best is trial 0 with value: 0.7752271640363463.\u001b[0m\n",
      "\u001b[32m[I 2021-09-23 12:43:48,867]\u001b[0m Trial 26 finished with value: 0.6514666029013232 and parameters: {'classifier': 'SVC', 'svc_c': 1.0431608191081332}. Best is trial 0 with value: 0.7752271640363463.\u001b[0m\n",
      "\u001b[32m[I 2021-09-23 12:43:54,313]\u001b[0m Trial 27 finished with value: 0.7654790371433126 and parameters: {'classifier': 'RandomForest', 'n_estimators': 970, 'max_depth': 64.95188261352692}. Best is trial 0 with value: 0.7752271640363463.\u001b[0m\n",
      "\u001b[32m[I 2021-09-23 12:43:59,347]\u001b[0m Trial 28 finished with value: 0.7719990435198469 and parameters: {'classifier': 'RandomForest', 'n_estimators': 920, 'max_depth': 34.56117641171284}. Best is trial 0 with value: 0.7752271640363463.\u001b[0m\n",
      "\u001b[32m[I 2021-09-23 12:44:00,741]\u001b[0m Trial 29 finished with value: 0.7687390403315798 and parameters: {'classifier': 'RandomForest', 'n_estimators': 230, 'max_depth': 23.08527594187696}. Best is trial 0 with value: 0.7752271640363463.\u001b[0m\n",
      "\u001b[32m[I 2021-09-23 12:44:03,459]\u001b[0m Trial 30 finished with value: 0.76385302088315 and parameters: {'classifier': 'RandomForest', 'n_estimators': 490, 'max_depth': 13.907318393020331}. Best is trial 0 with value: 0.7752271640363463.\u001b[0m\n",
      "\u001b[32m[I 2021-09-23 12:44:08,561]\u001b[0m Trial 31 finished with value: 0.7654949784791966 and parameters: {'classifier': 'RandomForest', 'n_estimators': 910, 'max_depth': 32.76668910799144}. Best is trial 0 with value: 0.7752271640363463.\u001b[0m\n",
      "\u001b[32m[I 2021-09-23 12:44:14,912]\u001b[0m Trial 32 finished with value: 0.7687549816674637 and parameters: {'classifier': 'RandomForest', 'n_estimators': 1190, 'max_depth': 41.738611015126075}. Best is trial 0 with value: 0.7752271640363463.\u001b[0m\n",
      "\u001b[32m[I 2021-09-23 12:44:19,906]\u001b[0m Trial 33 finished with value: 0.7671050534034752 and parameters: {'classifier': 'RandomForest', 'n_estimators': 980, 'max_depth': 30.306045865205906}. Best is trial 0 with value: 0.7752271640363463.\u001b[0m\n",
      "\u001b[32m[I 2021-09-23 12:44:24,409]\u001b[0m Trial 34 finished with value: 0.7687390403315798 and parameters: {'classifier': 'RandomForest', 'n_estimators': 870, 'max_depth': 47.02546002925148}. Best is trial 0 with value: 0.7752271640363463.\u001b[0m\n"
     ]
    },
    {
     "name": "stderr",
     "output_type": "stream",
     "text": [
      "\u001b[32m[I 2021-09-23 12:44:28,369]\u001b[0m Trial 35 finished with value: 0.7752670173760561 and parameters: {'classifier': 'RandomForest', 'n_estimators': 660, 'max_depth': 35.492867163023185}. Best is trial 35 with value: 0.7752670173760561.\u001b[0m\n",
      "\u001b[32m[I 2021-09-23 12:44:28,485]\u001b[0m Trial 36 finished with value: 0.6514666029013232 and parameters: {'classifier': 'SVC', 'svc_c': 2.8548981170447867e-06}. Best is trial 35 with value: 0.7752670173760561.\u001b[0m\n",
      "\u001b[32m[I 2021-09-23 12:44:31,796]\u001b[0m Trial 37 finished with value: 0.7671130240714171 and parameters: {'classifier': 'RandomForest', 'n_estimators': 630, 'max_depth': 10.470007385194952}. Best is trial 35 with value: 0.7752670173760561.\u001b[0m\n",
      "\u001b[32m[I 2021-09-23 12:44:34,013]\u001b[0m Trial 38 finished with value: 0.7687310696636378 and parameters: {'classifier': 'RandomForest', 'n_estimators': 410, 'max_depth': 69.1121548023174}. Best is trial 35 with value: 0.7752670173760561.\u001b[0m\n",
      "\u001b[32m[I 2021-09-23 12:44:38,369]\u001b[0m Trial 39 finished with value: 0.7671130240714171 and parameters: {'classifier': 'RandomForest', 'n_estimators': 760, 'max_depth': 52.05707942308172}. Best is trial 35 with value: 0.7752670173760561.\u001b[0m\n",
      "\u001b[32m[I 2021-09-23 12:44:38,530]\u001b[0m Trial 40 finished with value: 0.6514666029013232 and parameters: {'classifier': 'SVC', 'svc_c': 173715.74431616472}. Best is trial 35 with value: 0.7752670173760561.\u001b[0m\n",
      "\u001b[32m[I 2021-09-23 12:44:43,083]\u001b[0m Trial 41 finished with value: 0.7671050534034752 and parameters: {'classifier': 'RandomForest', 'n_estimators': 810, 'max_depth': 31.992549984437396}. Best is trial 35 with value: 0.7752670173760561.\u001b[0m\n",
      "\u001b[32m[I 2021-09-23 12:44:48,911]\u001b[0m Trial 42 finished with value: 0.7670970827355332 and parameters: {'classifier': 'RandomForest', 'n_estimators': 1050, 'max_depth': 35.04485503142655}. Best is trial 35 with value: 0.7752670173760561.\u001b[0m\n",
      "\u001b[32m[I 2021-09-23 12:44:55,556]\u001b[0m Trial 43 finished with value: 0.7654949784791966 and parameters: {'classifier': 'RandomForest', 'n_estimators': 1310, 'max_depth': 22.81773538278783}. Best is trial 35 with value: 0.7752670173760561.\u001b[0m\n",
      "\u001b[32m[I 2021-09-23 12:44:58,584]\u001b[0m Trial 44 finished with value: 0.7654790371433126 and parameters: {'classifier': 'RandomForest', 'n_estimators': 580, 'max_depth': 43.07449765065052}. Best is trial 35 with value: 0.7752670173760561.\u001b[0m\n",
      "\u001b[32m[I 2021-09-23 12:45:04,411]\u001b[0m Trial 45 finished with value: 0.7687390403315798 and parameters: {'classifier': 'RandomForest', 'n_estimators': 990, 'max_depth': 55.046413372213564}. Best is trial 35 with value: 0.7752670173760561.\u001b[0m\n",
      "\u001b[32m[I 2021-09-23 12:45:06,577]\u001b[0m Trial 46 finished with value: 0.7654710664753707 and parameters: {'classifier': 'RandomForest', 'n_estimators': 400, 'max_depth': 83.88625266230859}. Best is trial 35 with value: 0.7752670173760561.\u001b[0m\n",
      "\u001b[32m[I 2021-09-23 12:45:10,261]\u001b[0m Trial 47 finished with value: 0.7654949784791966 and parameters: {'classifier': 'RandomForest', 'n_estimators': 710, 'max_depth': 28.018430033656575}. Best is trial 35 with value: 0.7752670173760561.\u001b[0m\n",
      "\u001b[32m[I 2021-09-23 12:45:14,762]\u001b[0m Trial 48 finished with value: 0.7638849035549179 and parameters: {'classifier': 'RandomForest', 'n_estimators': 850, 'max_depth': 35.53250858432189}. Best is trial 35 with value: 0.7752670173760561.\u001b[0m\n",
      "\u001b[32m[I 2021-09-23 12:45:14,870]\u001b[0m Trial 49 finished with value: 0.6514666029013232 and parameters: {'classifier': 'SVC', 'svc_c': 3.1553480766764026e-10}. Best is trial 35 with value: 0.7752670173760561.\u001b[0m\n",
      "\u001b[32m[I 2021-09-23 12:45:20,782]\u001b[0m Trial 50 finished with value: 0.7589670014347202 and parameters: {'classifier': 'RandomForest', 'n_estimators': 1120, 'max_depth': 63.036804311723316}. Best is trial 35 with value: 0.7752670173760561.\u001b[0m\n",
      "\u001b[32m[I 2021-09-23 12:45:24,181]\u001b[0m Trial 51 finished with value: 0.7622190339550454 and parameters: {'classifier': 'RandomForest', 'n_estimators': 650, 'max_depth': 13.10456078639041}. Best is trial 35 with value: 0.7752670173760561.\u001b[0m\n",
      "\u001b[32m[I 2021-09-23 12:45:28,078]\u001b[0m Trial 52 finished with value: 0.7687230989956958 and parameters: {'classifier': 'RandomForest', 'n_estimators': 730, 'max_depth': 16.28310512990195}. Best is trial 35 with value: 0.7752670173760561.\u001b[0m\n",
      "\u001b[32m[I 2021-09-23 12:45:31,492]\u001b[0m Trial 53 finished with value: 0.7638689622190339 and parameters: {'classifier': 'RandomForest', 'n_estimators': 600, 'max_depth': 14.409195931509574}. Best is trial 35 with value: 0.7752670173760561.\u001b[0m\n",
      "\u001b[32m[I 2021-09-23 12:45:33,423]\u001b[0m Trial 54 finished with value: 0.7703650565917424 and parameters: {'classifier': 'RandomForest', 'n_estimators': 340, 'max_depth': 11.80014539142303}. Best is trial 35 with value: 0.7752670173760561.\u001b[0m\n",
      "\u001b[32m[I 2021-09-23 12:45:37,769]\u001b[0m Trial 55 finished with value: 0.767136936075243 and parameters: {'classifier': 'RandomForest', 'n_estimators': 810, 'max_depth': 19.922309222036294}. Best is trial 35 with value: 0.7752670173760561.\u001b[0m\n",
      "\u001b[32m[I 2021-09-23 12:45:43,449]\u001b[0m Trial 56 finished with value: 0.7670970827355332 and parameters: {'classifier': 'RandomForest', 'n_estimators': 1040, 'max_depth': 15.870702835924357}. Best is trial 35 with value: 0.7752670173760561.\u001b[0m\n",
      "\u001b[32m[I 2021-09-23 12:45:48,666]\u001b[0m Trial 57 finished with value: 0.7589829427706042 and parameters: {'classifier': 'RandomForest', 'n_estimators': 920, 'max_depth': 17.793429758454284}. Best is trial 35 with value: 0.7752670173760561.\u001b[0m\n",
      "\u001b[32m[I 2021-09-23 12:45:56,281]\u001b[0m Trial 58 finished with value: 0.7654870078112546 and parameters: {'classifier': 'RandomForest', 'n_estimators': 1410, 'max_depth': 98.97981247654117}. Best is trial 35 with value: 0.7752670173760561.\u001b[0m\n",
      "\u001b[32m[I 2021-09-23 12:45:56,416]\u001b[0m Trial 59 finished with value: 0.6514666029013232 and parameters: {'classifier': 'SVC', 'svc_c': 1467615109.549301}. Best is trial 35 with value: 0.7752670173760561.\u001b[0m\n",
      "\u001b[32m[I 2021-09-23 12:46:00,347]\u001b[0m Trial 60 finished with value: 0.7654790371433126 and parameters: {'classifier': 'RandomForest', 'n_estimators': 690, 'max_depth': 23.7725159965703}. Best is trial 35 with value: 0.7752670173760561.\u001b[0m\n",
      "\u001b[32m[I 2021-09-23 12:46:04,630]\u001b[0m Trial 61 finished with value: 0.7736330304479515 and parameters: {'classifier': 'RandomForest', 'n_estimators': 800, 'max_depth': 12.003252088705894}. Best is trial 35 with value: 0.7752670173760561.\u001b[0m\n",
      "\u001b[32m[I 2021-09-23 12:46:07,434]\u001b[0m Trial 62 finished with value: 0.7703650565917424 and parameters: {'classifier': 'RandomForest', 'n_estimators': 520, 'max_depth': 11.30173711404603}. Best is trial 35 with value: 0.7752670173760561.\u001b[0m\n",
      "\u001b[32m[I 2021-09-23 12:46:12,218]\u001b[0m Trial 63 finished with value: 0.763860991551092 and parameters: {'classifier': 'RandomForest', 'n_estimators': 870, 'max_depth': 14.211518465231205}. Best is trial 35 with value: 0.7752670173760561.\u001b[0m\n",
      "\u001b[32m[I 2021-09-23 12:46:16,505]\u001b[0m Trial 64 finished with value: 0.7671130240714171 and parameters: {'classifier': 'RandomForest', 'n_estimators': 780, 'max_depth': 11.884201542520824}. Best is trial 35 with value: 0.7752670173760561.\u001b[0m\n",
      "\u001b[32m[I 2021-09-23 12:46:21,656]\u001b[0m Trial 65 finished with value: 0.7687390403315798 and parameters: {'classifier': 'RandomForest', 'n_estimators': 940, 'max_depth': 49.205677435150214}. Best is trial 35 with value: 0.7752670173760561.\u001b[0m\n",
      "\u001b[32m[I 2021-09-23 12:46:24,283]\u001b[0m Trial 66 finished with value: 0.7768770923003347 and parameters: {'classifier': 'RandomForest', 'n_estimators': 470, 'max_depth': 17.71070186005702}. Best is trial 66 with value: 0.7768770923003347.\u001b[0m\n",
      "\u001b[32m[I 2021-09-23 12:46:26,134]\u001b[0m Trial 67 finished with value: 0.7719990435198469 and parameters: {'classifier': 'RandomForest', 'n_estimators': 320, 'max_depth': 21.436275562107713}. Best is trial 66 with value: 0.7768770923003347.\u001b[0m\n",
      "\u001b[32m[I 2021-09-23 12:46:28,637]\u001b[0m Trial 68 finished with value: 0.7606009883628247 and parameters: {'classifier': 'RandomForest', 'n_estimators': 450, 'max_depth': 26.271121661642276}. Best is trial 66 with value: 0.7768770923003347.\u001b[0m\n",
      "\u001b[32m[I 2021-09-23 12:46:37,704]\u001b[0m Trial 69 finished with value: 0.7671209947393591 and parameters: {'classifier': 'RandomForest', 'n_estimators': 1760, 'max_depth': 29.891886018324545}. Best is trial 66 with value: 0.7768770923003347.\u001b[0m\n"
     ]
    },
    {
     "name": "stderr",
     "output_type": "stream",
     "text": [
      "\u001b[32m[I 2021-09-23 12:46:37,827]\u001b[0m Trial 70 finished with value: 0.6514666029013232 and parameters: {'classifier': 'SVC', 'svc_c': 0.0005479148226379179}. Best is trial 66 with value: 0.7768770923003347.\u001b[0m\n",
      "\u001b[32m[I 2021-09-23 12:46:39,716]\u001b[0m Trial 71 finished with value: 0.7654710664753707 and parameters: {'classifier': 'RandomForest', 'n_estimators': 360, 'max_depth': 18.403199860186582}. Best is trial 66 with value: 0.7768770923003347.\u001b[0m\n",
      "\u001b[32m[I 2021-09-23 12:46:41,098]\u001b[0m Trial 72 finished with value: 0.763860991551092 and parameters: {'classifier': 'RandomForest', 'n_estimators': 270, 'max_depth': 21.596643867648957}. Best is trial 66 with value: 0.7768770923003347.\u001b[0m\n",
      "\u001b[32m[I 2021-09-23 12:46:43,929]\u001b[0m Trial 73 finished with value: 0.7573330145066156 and parameters: {'classifier': 'RandomForest', 'n_estimators': 560, 'max_depth': 18.615452924685247}. Best is trial 66 with value: 0.7768770923003347.\u001b[0m\n",
      "\u001b[32m[I 2021-09-23 12:46:45,613]\u001b[0m Trial 74 finished with value: 0.7687310696636378 and parameters: {'classifier': 'RandomForest', 'n_estimators': 310, 'max_depth': 38.764586411592155}. Best is trial 66 with value: 0.7768770923003347.\u001b[0m\n",
      "\u001b[32m[I 2021-09-23 12:46:51,274]\u001b[0m Trial 75 finished with value: 0.7703809979276263 and parameters: {'classifier': 'RandomForest', 'n_estimators': 1110, 'max_depth': 15.082252465840963}. Best is trial 66 with value: 0.7768770923003347.\u001b[0m\n",
      "\u001b[32m[I 2021-09-23 12:46:53,693]\u001b[0m Trial 76 finished with value: 0.7622190339550454 and parameters: {'classifier': 'RandomForest', 'n_estimators': 450, 'max_depth': 21.378111676704986}. Best is trial 66 with value: 0.7768770923003347.\u001b[0m\n",
      "\u001b[32m[I 2021-09-23 12:46:54,810]\u001b[0m Trial 77 finished with value: 0.7589590307667783 and parameters: {'classifier': 'RandomForest', 'n_estimators': 210, 'max_depth': 26.374018201511586}. Best is trial 66 with value: 0.7768770923003347.\u001b[0m\n",
      "\u001b[32m[I 2021-09-23 12:46:59,886]\u001b[0m Trial 78 finished with value: 0.7606009883628247 and parameters: {'classifier': 'RandomForest', 'n_estimators': 1010, 'max_depth': 13.048958879315702}. Best is trial 66 with value: 0.7768770923003347.\u001b[0m\n",
      "\u001b[32m[I 2021-09-23 12:47:03,124]\u001b[0m Trial 79 finished with value: 0.7736330304479515 and parameters: {'classifier': 'RandomForest', 'n_estimators': 610, 'max_depth': 25.192119933948373}. Best is trial 66 with value: 0.7768770923003347.\u001b[0m\n",
      "\u001b[32m[I 2021-09-23 12:47:06,395]\u001b[0m Trial 80 finished with value: 0.7687470109995217 and parameters: {'classifier': 'RandomForest', 'n_estimators': 640, 'max_depth': 29.69865720772154}. Best is trial 66 with value: 0.7768770923003347.\u001b[0m\n",
      "\u001b[32m[I 2021-09-23 12:47:09,338]\u001b[0m Trial 81 finished with value: 0.7622190339550454 and parameters: {'classifier': 'RandomForest', 'n_estimators': 500, 'max_depth': 24.89026023416861}. Best is trial 66 with value: 0.7768770923003347.\u001b[0m\n",
      "\u001b[32m[I 2021-09-23 12:47:13,853]\u001b[0m Trial 82 finished with value: 0.7573330145066156 and parameters: {'classifier': 'RandomForest', 'n_estimators': 850, 'max_depth': 22.590221068288354}. Best is trial 66 with value: 0.7768770923003347.\u001b[0m\n",
      "\u001b[32m[I 2021-09-23 12:47:16,997]\u001b[0m Trial 83 finished with value: 0.755699027578511 and parameters: {'classifier': 'RandomForest', 'n_estimators': 590, 'max_depth': 17.778754766598063}. Best is trial 66 with value: 0.7768770923003347.\u001b[0m\n",
      "\u001b[32m[I 2021-09-23 12:47:20,915]\u001b[0m Trial 84 finished with value: 0.7703650565917424 and parameters: {'classifier': 'RandomForest', 'n_estimators': 740, 'max_depth': 32.645845949151756}. Best is trial 66 with value: 0.7768770923003347.\u001b[0m\n",
      "\u001b[32m[I 2021-09-23 12:47:23,436]\u001b[0m Trial 85 finished with value: 0.7589430894308943 and parameters: {'classifier': 'RandomForest', 'n_estimators': 460, 'max_depth': 19.742034336848423}. Best is trial 66 with value: 0.7768770923003347.\u001b[0m\n",
      "\u001b[32m[I 2021-09-23 12:47:25,596]\u001b[0m Trial 86 finished with value: 0.771983102183963 and parameters: {'classifier': 'RandomForest', 'n_estimators': 400, 'max_depth': 10.16791473616402}. Best is trial 66 with value: 0.7768770923003347.\u001b[0m\n",
      "\u001b[32m[I 2021-09-23 12:47:25,742]\u001b[0m Trial 87 finished with value: 0.6514666029013232 and parameters: {'classifier': 'SVC', 'svc_c': 9893.775948955714}. Best is trial 66 with value: 0.7768770923003347.\u001b[0m\n",
      "\u001b[32m[I 2021-09-23 12:47:29,247]\u001b[0m Trial 88 finished with value: 0.7719910728519049 and parameters: {'classifier': 'RandomForest', 'n_estimators': 670, 'max_depth': 25.23504502638059}. Best is trial 66 with value: 0.7768770923003347.\u001b[0m\n",
      "\u001b[32m[I 2021-09-23 12:47:35,959]\u001b[0m Trial 89 finished with value: 0.7606009883628247 and parameters: {'classifier': 'RandomForest', 'n_estimators': 1170, 'max_depth': 43.31160433828456}. Best is trial 66 with value: 0.7768770923003347.\u001b[0m\n",
      "\u001b[32m[I 2021-09-23 12:47:39,567]\u001b[0m Trial 90 finished with value: 0.7671209947393591 and parameters: {'classifier': 'RandomForest', 'n_estimators': 550, 'max_depth': 37.4568424071073}. Best is trial 66 with value: 0.7768770923003347.\u001b[0m\n",
      "\u001b[32m[I 2021-09-23 12:47:46,949]\u001b[0m Trial 91 finished with value: 0.7589670014347202 and parameters: {'classifier': 'RandomForest', 'n_estimators': 810, 'max_depth': 15.882379134900445}. Best is trial 66 with value: 0.7768770923003347.\u001b[0m\n",
      "\u001b[32m[I 2021-09-23 12:47:52,561]\u001b[0m Trial 92 finished with value: 0.7589749721026622 and parameters: {'classifier': 'RandomForest', 'n_estimators': 700, 'max_depth': 59.983133809425574}. Best is trial 66 with value: 0.7768770923003347.\u001b[0m\n",
      "\u001b[32m[I 2021-09-23 12:47:57,231]\u001b[0m Trial 93 finished with value: 0.7687549816674637 and parameters: {'classifier': 'RandomForest', 'n_estimators': 620, 'max_depth': 25.12629253366766}. Best is trial 66 with value: 0.7768770923003347.\u001b[0m\n",
      "\u001b[32m[I 2021-09-23 12:48:02,259]\u001b[0m Trial 94 finished with value: 0.76385302088315 and parameters: {'classifier': 'RandomForest', 'n_estimators': 880, 'max_depth': 27.89870973530891}. Best is trial 66 with value: 0.7768770923003347.\u001b[0m\n",
      "\u001b[32m[I 2021-09-23 12:48:07,139]\u001b[0m Trial 95 finished with value: 0.7671130240714171 and parameters: {'classifier': 'RandomForest', 'n_estimators': 960, 'max_depth': 17.239617970464696}. Best is trial 66 with value: 0.7768770923003347.\u001b[0m\n",
      "\u001b[32m[I 2021-09-23 12:48:11,372]\u001b[0m Trial 96 finished with value: 0.7687470109995217 and parameters: {'classifier': 'RandomForest', 'n_estimators': 780, 'max_depth': 35.07165681875163}. Best is trial 66 with value: 0.7768770923003347.\u001b[0m\n",
      "\u001b[32m[I 2021-09-23 12:48:15,461]\u001b[0m Trial 97 finished with value: 0.7703809979276263 and parameters: {'classifier': 'RandomForest', 'n_estimators': 690, 'max_depth': 23.958986883748345}. Best is trial 66 with value: 0.7768770923003347.\u001b[0m\n",
      "\u001b[32m[I 2021-09-23 12:48:19,013]\u001b[0m Trial 98 finished with value: 0.7703730272596844 and parameters: {'classifier': 'RandomForest', 'n_estimators': 660, 'max_depth': 20.727662046525335}. Best is trial 66 with value: 0.7768770923003347.\u001b[0m\n",
      "\u001b[32m[I 2021-09-23 12:48:24,138]\u001b[0m Trial 99 finished with value: 0.7589749721026622 and parameters: {'classifier': 'RandomForest', 'n_estimators': 910, 'max_depth': 80.23571418255553}. Best is trial 66 with value: 0.7768770923003347.\u001b[0m\n"
     ]
    }
   ],
   "source": [
    "study = optuna.create_study(direction='maximize')\n",
    "study.optimize(objective_optuna, n_trials=100)"
   ]
  },
  {
   "cell_type": "code",
   "execution_count": 47,
   "metadata": {},
   "outputs": [
    {
     "name": "stdout",
     "output_type": "stream",
     "text": [
      "Accuracy: 0.7768770923003347\n",
      "Best hyperparameters: {'classifier': 'RandomForest', 'n_estimators': 470, 'max_depth': 17.71070186005702}\n"
     ]
    }
   ],
   "source": [
    "\n",
    "trial = study.best_trial\n",
    "\n",
    "print('Accuracy: {}'.format(trial.value))\n",
    "print(\"Best hyperparameters: {}\".format(trial.params))"
   ]
  },
  {
   "cell_type": "code",
   "execution_count": 48,
   "metadata": {},
   "outputs": [
    {
     "data": {
      "text/plain": [
       "{'classifier': 'RandomForest',\n",
       " 'n_estimators': 470,\n",
       " 'max_depth': 17.71070186005702}"
      ]
     },
     "execution_count": 48,
     "metadata": {},
     "output_type": "execute_result"
    }
   ],
   "source": [
    "study.best_params"
   ]
  },
  {
   "cell_type": "code",
   "execution_count": 49,
   "metadata": {},
   "outputs": [],
   "source": [
    "rf = RandomForestClassifier(n_estimators=470,max_depth=17.71070186005702).fit(X_train,y_train)"
   ]
  },
  {
   "cell_type": "code",
   "execution_count": 50,
   "metadata": {},
   "outputs": [],
   "source": [
    "optuna_predict = rf.predict(X_test)"
   ]
  },
  {
   "cell_type": "code",
   "execution_count": 51,
   "metadata": {},
   "outputs": [
    {
     "name": "stdout",
     "output_type": "stream",
     "text": [
      "              precision    recall  f1-score   support\n",
      "\n",
      "           0       0.75      0.89      0.81       100\n",
      "           1       0.69      0.44      0.54        54\n",
      "\n",
      "    accuracy                           0.73       154\n",
      "   macro avg       0.72      0.67      0.68       154\n",
      "weighted avg       0.73      0.73      0.72       154\n",
      "\n",
      "0.7337662337662337\n",
      "[[89 11]\n",
      " [30 24]]\n"
     ]
    }
   ],
   "source": [
    "print(classification_report(y_test,optuna_predict))\n",
    "print(accuracy_score(y_test,optuna_predict))\n",
    "print(confusion_matrix(y_test,optuna_predict))"
   ]
  },
  {
   "cell_type": "code",
   "execution_count": null,
   "metadata": {},
   "outputs": [],
   "source": []
  }
 ],
 "metadata": {
  "kernelspec": {
   "display_name": "Python 3",
   "language": "python",
   "name": "python3"
  },
  "language_info": {
   "codemirror_mode": {
    "name": "ipython",
    "version": 3
   },
   "file_extension": ".py",
   "mimetype": "text/x-python",
   "name": "python",
   "nbconvert_exporter": "python",
   "pygments_lexer": "ipython3",
   "version": "3.8.5"
  }
 },
 "nbformat": 4,
 "nbformat_minor": 4
}
